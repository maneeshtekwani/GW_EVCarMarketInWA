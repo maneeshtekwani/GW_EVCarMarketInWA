{
 "cells": [
  {
   "cell_type": "markdown",
   "id": "1211baaf",
   "metadata": {},
   "source": [
    "# DNSC 6303_11 – Programming for Analytics II \n",
    "# Final Project Statement – Team 2\n",
    "\n",
    "# Team 2 Members: \n",
    "# Maneesh Tekwani, Sai Nityamani Sahith Matsa, Manuel Jonathan Chavez Caprio, Patrick Zelazko"
   ]
  },
  {
   "cell_type": "markdown",
   "id": "d7b5b7eb",
   "metadata": {},
   "source": [
    "## Assignment Brief\n",
    "__Title:__ Electric Vehicle Adoption Trends in Washington State (2017-2023)\n",
    "\n",
    "__Topic:__ Team 2 will be analyzing adoption trends in the electric car market to derive information on the major players in the industry and their successful car model and makes as observed through recent adoption trends in Washington State (WA State Gov Data) in the backdrop of broader trends across the broader US (DoE Data).\n",
    "\n",
    "Furthermore, we aim to gain understanding about the role that state tax exemptions and incentives as the ones WA government offers play in EV adoption. Holistically, we will paint a picture of the market of EV cars and understand how the landscape has evolved since 2017 in relation to broader social, economic, and technological trends in WA and the Seattle area. \n",
    "\n",
    "We aim to build this report to generate insights useful for car manufacturing companies who are either looking to expand in the EV space or planning to explore it as new entrants.\n"
   ]
  },
  {
   "cell_type": "markdown",
   "id": "8e1239e8",
   "metadata": {},
   "source": [
    "__Topics Covered within this Analysis__\n",
    "- Variables\n",
    "- Data Frames\n",
    "- Lists (arrays) and Dictionaries\n",
    "- Pandas as pd (To read Excel File)\n",
    "- NumPy as np (For Numerical Arrays)\n",
    "- MatPlotLib and Seaborns (For Numerical Representations, Graphs etc.)\n",
    "- Simple Linear Regression\n",
    "- Muliple Linear Regression \n",
    "- Webscraping (Using Webscraping to Provide more infromation \n",
    "- Simple Optimization and Optimization using command lines (pip)\n",
    "- Clustering Data Techniques (K Means)"
   ]
  },
  {
   "cell_type": "markdown",
   "id": "37232513",
   "metadata": {},
   "source": [
    "### Importing all the packages"
   ]
  },
  {
   "cell_type": "code",
   "execution_count": 229,
   "id": "64cb125b",
   "metadata": {},
   "outputs": [],
   "source": [
    "import numpy as np\n",
    "import pandas as pd\n",
    "import seaborn as sns\n",
    "import matplotlib.pyplot as plt"
   ]
  },
  {
   "cell_type": "markdown",
   "id": "260c0c9a",
   "metadata": {},
   "source": [
    "### Reading the Dataset"
   ]
  },
  {
   "cell_type": "code",
   "execution_count": 230,
   "id": "abc20e8c",
   "metadata": {},
   "outputs": [],
   "source": [
    "mydf = pd.read_csv(\"Electric_Vehicle_Population_Data.csv\")"
   ]
  },
  {
   "cell_type": "code",
   "execution_count": 231,
   "id": "abd2accd",
   "metadata": {},
   "outputs": [
    {
     "data": {
      "text/html": [
       "<div>\n",
       "<style scoped>\n",
       "    .dataframe tbody tr th:only-of-type {\n",
       "        vertical-align: middle;\n",
       "    }\n",
       "\n",
       "    .dataframe tbody tr th {\n",
       "        vertical-align: top;\n",
       "    }\n",
       "\n",
       "    .dataframe thead th {\n",
       "        text-align: right;\n",
       "    }\n",
       "</style>\n",
       "<table border=\"1\" class=\"dataframe\">\n",
       "  <thead>\n",
       "    <tr style=\"text-align: right;\">\n",
       "      <th></th>\n",
       "      <th>VIN (1-10)</th>\n",
       "      <th>County</th>\n",
       "      <th>City</th>\n",
       "      <th>State</th>\n",
       "      <th>Postal Code</th>\n",
       "      <th>Model Year</th>\n",
       "      <th>Make</th>\n",
       "      <th>Model</th>\n",
       "      <th>Electric Vehicle Type</th>\n",
       "      <th>Clean Alternative Fuel Vehicle (CAFV) Eligibility</th>\n",
       "      <th>Electric Range</th>\n",
       "      <th>Base MSRP</th>\n",
       "      <th>Legislative District</th>\n",
       "      <th>DOL Vehicle ID</th>\n",
       "      <th>Vehicle Location</th>\n",
       "      <th>Electric Utility</th>\n",
       "      <th>2020 Census Tract</th>\n",
       "    </tr>\n",
       "  </thead>\n",
       "  <tbody>\n",
       "    <tr>\n",
       "      <th>0</th>\n",
       "      <td>KM8K33AGXL</td>\n",
       "      <td>King</td>\n",
       "      <td>Seattle</td>\n",
       "      <td>WA</td>\n",
       "      <td>98103.0</td>\n",
       "      <td>2020</td>\n",
       "      <td>HYUNDAI</td>\n",
       "      <td>KONA</td>\n",
       "      <td>Battery Electric Vehicle (BEV)</td>\n",
       "      <td>Clean Alternative Fuel Vehicle Eligible</td>\n",
       "      <td>258</td>\n",
       "      <td>0</td>\n",
       "      <td>43.0</td>\n",
       "      <td>249675142</td>\n",
       "      <td>POINT (-122.34301 47.659185)</td>\n",
       "      <td>CITY OF SEATTLE - (WA)|CITY OF TACOMA - (WA)</td>\n",
       "      <td>5.303300e+10</td>\n",
       "    </tr>\n",
       "    <tr>\n",
       "      <th>1</th>\n",
       "      <td>1C4RJYB61N</td>\n",
       "      <td>King</td>\n",
       "      <td>Bothell</td>\n",
       "      <td>WA</td>\n",
       "      <td>98011.0</td>\n",
       "      <td>2022</td>\n",
       "      <td>JEEP</td>\n",
       "      <td>GRAND CHEROKEE</td>\n",
       "      <td>Plug-in Hybrid Electric Vehicle (PHEV)</td>\n",
       "      <td>Not eligible due to low battery range</td>\n",
       "      <td>25</td>\n",
       "      <td>0</td>\n",
       "      <td>1.0</td>\n",
       "      <td>233928502</td>\n",
       "      <td>POINT (-122.20578 47.762405)</td>\n",
       "      <td>PUGET SOUND ENERGY INC||CITY OF TACOMA - (WA)</td>\n",
       "      <td>5.303302e+10</td>\n",
       "    </tr>\n",
       "    <tr>\n",
       "      <th>2</th>\n",
       "      <td>1C4RJYD61P</td>\n",
       "      <td>Yakima</td>\n",
       "      <td>Yakima</td>\n",
       "      <td>WA</td>\n",
       "      <td>98908.0</td>\n",
       "      <td>2023</td>\n",
       "      <td>JEEP</td>\n",
       "      <td>GRAND CHEROKEE</td>\n",
       "      <td>Plug-in Hybrid Electric Vehicle (PHEV)</td>\n",
       "      <td>Not eligible due to low battery range</td>\n",
       "      <td>25</td>\n",
       "      <td>0</td>\n",
       "      <td>14.0</td>\n",
       "      <td>229675939</td>\n",
       "      <td>POINT (-120.6027202 46.5965625)</td>\n",
       "      <td>PACIFICORP</td>\n",
       "      <td>5.307700e+10</td>\n",
       "    </tr>\n",
       "    <tr>\n",
       "      <th>3</th>\n",
       "      <td>5YJ3E1EA7J</td>\n",
       "      <td>King</td>\n",
       "      <td>Kirkland</td>\n",
       "      <td>WA</td>\n",
       "      <td>98034.0</td>\n",
       "      <td>2018</td>\n",
       "      <td>TESLA</td>\n",
       "      <td>MODEL 3</td>\n",
       "      <td>Battery Electric Vehicle (BEV)</td>\n",
       "      <td>Clean Alternative Fuel Vehicle Eligible</td>\n",
       "      <td>215</td>\n",
       "      <td>0</td>\n",
       "      <td>45.0</td>\n",
       "      <td>104714466</td>\n",
       "      <td>POINT (-122.209285 47.71124)</td>\n",
       "      <td>PUGET SOUND ENERGY INC||CITY OF TACOMA - (WA)</td>\n",
       "      <td>5.303302e+10</td>\n",
       "    </tr>\n",
       "    <tr>\n",
       "      <th>4</th>\n",
       "      <td>WBY7Z8C5XJ</td>\n",
       "      <td>Thurston</td>\n",
       "      <td>Olympia</td>\n",
       "      <td>WA</td>\n",
       "      <td>98501.0</td>\n",
       "      <td>2018</td>\n",
       "      <td>BMW</td>\n",
       "      <td>I3</td>\n",
       "      <td>Plug-in Hybrid Electric Vehicle (PHEV)</td>\n",
       "      <td>Clean Alternative Fuel Vehicle Eligible</td>\n",
       "      <td>97</td>\n",
       "      <td>0</td>\n",
       "      <td>22.0</td>\n",
       "      <td>185498386</td>\n",
       "      <td>POINT (-122.89692 47.043535)</td>\n",
       "      <td>PUGET SOUND ENERGY INC</td>\n",
       "      <td>5.306701e+10</td>\n",
       "    </tr>\n",
       "  </tbody>\n",
       "</table>\n",
       "</div>"
      ],
      "text/plain": [
       "   VIN (1-10)    County      City State  Postal Code  Model Year     Make  \\\n",
       "0  KM8K33AGXL      King   Seattle    WA      98103.0        2020  HYUNDAI   \n",
       "1  1C4RJYB61N      King   Bothell    WA      98011.0        2022     JEEP   \n",
       "2  1C4RJYD61P    Yakima    Yakima    WA      98908.0        2023     JEEP   \n",
       "3  5YJ3E1EA7J      King  Kirkland    WA      98034.0        2018    TESLA   \n",
       "4  WBY7Z8C5XJ  Thurston   Olympia    WA      98501.0        2018      BMW   \n",
       "\n",
       "            Model                   Electric Vehicle Type  \\\n",
       "0            KONA          Battery Electric Vehicle (BEV)   \n",
       "1  GRAND CHEROKEE  Plug-in Hybrid Electric Vehicle (PHEV)   \n",
       "2  GRAND CHEROKEE  Plug-in Hybrid Electric Vehicle (PHEV)   \n",
       "3         MODEL 3          Battery Electric Vehicle (BEV)   \n",
       "4              I3  Plug-in Hybrid Electric Vehicle (PHEV)   \n",
       "\n",
       "  Clean Alternative Fuel Vehicle (CAFV) Eligibility  Electric Range  \\\n",
       "0           Clean Alternative Fuel Vehicle Eligible             258   \n",
       "1             Not eligible due to low battery range              25   \n",
       "2             Not eligible due to low battery range              25   \n",
       "3           Clean Alternative Fuel Vehicle Eligible             215   \n",
       "4           Clean Alternative Fuel Vehicle Eligible              97   \n",
       "\n",
       "   Base MSRP  Legislative District  DOL Vehicle ID  \\\n",
       "0          0                  43.0       249675142   \n",
       "1          0                   1.0       233928502   \n",
       "2          0                  14.0       229675939   \n",
       "3          0                  45.0       104714466   \n",
       "4          0                  22.0       185498386   \n",
       "\n",
       "                  Vehicle Location  \\\n",
       "0     POINT (-122.34301 47.659185)   \n",
       "1     POINT (-122.20578 47.762405)   \n",
       "2  POINT (-120.6027202 46.5965625)   \n",
       "3     POINT (-122.209285 47.71124)   \n",
       "4     POINT (-122.89692 47.043535)   \n",
       "\n",
       "                                Electric Utility  2020 Census Tract  \n",
       "0   CITY OF SEATTLE - (WA)|CITY OF TACOMA - (WA)       5.303300e+10  \n",
       "1  PUGET SOUND ENERGY INC||CITY OF TACOMA - (WA)       5.303302e+10  \n",
       "2                                     PACIFICORP       5.307700e+10  \n",
       "3  PUGET SOUND ENERGY INC||CITY OF TACOMA - (WA)       5.303302e+10  \n",
       "4                         PUGET SOUND ENERGY INC       5.306701e+10  "
      ]
     },
     "execution_count": 231,
     "metadata": {},
     "output_type": "execute_result"
    }
   ],
   "source": [
    "mydf.head()"
   ]
  },
  {
   "cell_type": "code",
   "execution_count": 232,
   "id": "89da2d3d",
   "metadata": {},
   "outputs": [
    {
     "data": {
      "text/plain": [
       "(150482, 17)"
      ]
     },
     "execution_count": 232,
     "metadata": {},
     "output_type": "execute_result"
    }
   ],
   "source": [
    "mydf.shape"
   ]
  },
  {
   "cell_type": "markdown",
   "id": "067d48e2",
   "metadata": {},
   "source": [
    "### Examining Data within the EV Data Frame"
   ]
  },
  {
   "cell_type": "code",
   "execution_count": 233,
   "id": "4e9b3a58",
   "metadata": {},
   "outputs": [
    {
     "data": {
      "text/plain": [
       "Index(['VIN (1-10)', 'County', 'City', 'State', 'Postal Code', 'Model Year',\n",
       "       'Make', 'Model', 'Electric Vehicle Type',\n",
       "       'Clean Alternative Fuel Vehicle (CAFV) Eligibility', 'Electric Range',\n",
       "       'Base MSRP', 'Legislative District', 'DOL Vehicle ID',\n",
       "       'Vehicle Location', 'Electric Utility', '2020 Census Tract'],\n",
       "      dtype='object')"
      ]
     },
     "execution_count": 233,
     "metadata": {},
     "output_type": "execute_result"
    }
   ],
   "source": [
    "#Examining all the columns within the dataset\n",
    "mydf.keys()"
   ]
  },
  {
   "cell_type": "markdown",
   "id": "ad8f58e4",
   "metadata": {},
   "source": [
    "### Cleaning the Dataset to work with"
   ]
  },
  {
   "cell_type": "code",
   "execution_count": 234,
   "id": "d5ceaa25",
   "metadata": {},
   "outputs": [
    {
     "data": {
      "text/plain": [
       "(150482, 17)"
      ]
     },
     "execution_count": 234,
     "metadata": {},
     "output_type": "execute_result"
    }
   ],
   "source": [
    "#Examining the dataset before cleaning with\n",
    "mydf.shape "
   ]
  },
  {
   "cell_type": "code",
   "execution_count": 235,
   "id": "8531d706",
   "metadata": {},
   "outputs": [],
   "source": [
    "#Dropping all the NA values to get a clean data set to work with\n",
    "EDF=mydf.dropna()"
   ]
  },
  {
   "cell_type": "code",
   "execution_count": 236,
   "id": "02665679",
   "metadata": {},
   "outputs": [],
   "source": [
    "#Looking at the dataset, there are Electric Cars with Zero Range.\n",
    "#Tesla makes electric cars only, but there are Tesla's with the Electric Range = 0\n",
    "#Initially we were thinking of only considering Battery Electric Vehicle (BEV) but there are outliers\n",
    "EDF_ZeroRange=EDF[EDF['Electric Range']==0]"
   ]
  },
  {
   "cell_type": "code",
   "execution_count": 237,
   "id": "a4f8f812",
   "metadata": {},
   "outputs": [
    {
     "data": {
      "text/html": [
       "<div>\n",
       "<style scoped>\n",
       "    .dataframe tbody tr th:only-of-type {\n",
       "        vertical-align: middle;\n",
       "    }\n",
       "\n",
       "    .dataframe tbody tr th {\n",
       "        vertical-align: top;\n",
       "    }\n",
       "\n",
       "    .dataframe thead th {\n",
       "        text-align: right;\n",
       "    }\n",
       "</style>\n",
       "<table border=\"1\" class=\"dataframe\">\n",
       "  <thead>\n",
       "    <tr style=\"text-align: right;\">\n",
       "      <th></th>\n",
       "      <th>VIN (1-10)</th>\n",
       "      <th>County</th>\n",
       "      <th>City</th>\n",
       "      <th>State</th>\n",
       "      <th>Postal Code</th>\n",
       "      <th>Model Year</th>\n",
       "      <th>Make</th>\n",
       "      <th>Model</th>\n",
       "      <th>Electric Vehicle Type</th>\n",
       "      <th>Clean Alternative Fuel Vehicle (CAFV) Eligibility</th>\n",
       "      <th>Electric Range</th>\n",
       "      <th>Base MSRP</th>\n",
       "      <th>Legislative District</th>\n",
       "      <th>DOL Vehicle ID</th>\n",
       "      <th>Vehicle Location</th>\n",
       "      <th>Electric Utility</th>\n",
       "      <th>2020 Census Tract</th>\n",
       "    </tr>\n",
       "  </thead>\n",
       "  <tbody>\n",
       "    <tr>\n",
       "      <th>0</th>\n",
       "      <td>KM8K33AGXL</td>\n",
       "      <td>King</td>\n",
       "      <td>Seattle</td>\n",
       "      <td>WA</td>\n",
       "      <td>98103.0</td>\n",
       "      <td>2020</td>\n",
       "      <td>HYUNDAI</td>\n",
       "      <td>KONA</td>\n",
       "      <td>Battery Electric Vehicle (BEV)</td>\n",
       "      <td>Clean Alternative Fuel Vehicle Eligible</td>\n",
       "      <td>258</td>\n",
       "      <td>0</td>\n",
       "      <td>43.0</td>\n",
       "      <td>249675142</td>\n",
       "      <td>POINT (-122.34301 47.659185)</td>\n",
       "      <td>CITY OF SEATTLE - (WA)|CITY OF TACOMA - (WA)</td>\n",
       "      <td>5.303300e+10</td>\n",
       "    </tr>\n",
       "    <tr>\n",
       "      <th>1</th>\n",
       "      <td>1C4RJYB61N</td>\n",
       "      <td>King</td>\n",
       "      <td>Bothell</td>\n",
       "      <td>WA</td>\n",
       "      <td>98011.0</td>\n",
       "      <td>2022</td>\n",
       "      <td>JEEP</td>\n",
       "      <td>GRAND CHEROKEE</td>\n",
       "      <td>Plug-in Hybrid Electric Vehicle (PHEV)</td>\n",
       "      <td>Not eligible due to low battery range</td>\n",
       "      <td>25</td>\n",
       "      <td>0</td>\n",
       "      <td>1.0</td>\n",
       "      <td>233928502</td>\n",
       "      <td>POINT (-122.20578 47.762405)</td>\n",
       "      <td>PUGET SOUND ENERGY INC||CITY OF TACOMA - (WA)</td>\n",
       "      <td>5.303302e+10</td>\n",
       "    </tr>\n",
       "    <tr>\n",
       "      <th>2</th>\n",
       "      <td>1C4RJYD61P</td>\n",
       "      <td>Yakima</td>\n",
       "      <td>Yakima</td>\n",
       "      <td>WA</td>\n",
       "      <td>98908.0</td>\n",
       "      <td>2023</td>\n",
       "      <td>JEEP</td>\n",
       "      <td>GRAND CHEROKEE</td>\n",
       "      <td>Plug-in Hybrid Electric Vehicle (PHEV)</td>\n",
       "      <td>Not eligible due to low battery range</td>\n",
       "      <td>25</td>\n",
       "      <td>0</td>\n",
       "      <td>14.0</td>\n",
       "      <td>229675939</td>\n",
       "      <td>POINT (-120.6027202 46.5965625)</td>\n",
       "      <td>PACIFICORP</td>\n",
       "      <td>5.307700e+10</td>\n",
       "    </tr>\n",
       "    <tr>\n",
       "      <th>3</th>\n",
       "      <td>5YJ3E1EA7J</td>\n",
       "      <td>King</td>\n",
       "      <td>Kirkland</td>\n",
       "      <td>WA</td>\n",
       "      <td>98034.0</td>\n",
       "      <td>2018</td>\n",
       "      <td>TESLA</td>\n",
       "      <td>MODEL 3</td>\n",
       "      <td>Battery Electric Vehicle (BEV)</td>\n",
       "      <td>Clean Alternative Fuel Vehicle Eligible</td>\n",
       "      <td>215</td>\n",
       "      <td>0</td>\n",
       "      <td>45.0</td>\n",
       "      <td>104714466</td>\n",
       "      <td>POINT (-122.209285 47.71124)</td>\n",
       "      <td>PUGET SOUND ENERGY INC||CITY OF TACOMA - (WA)</td>\n",
       "      <td>5.303302e+10</td>\n",
       "    </tr>\n",
       "    <tr>\n",
       "      <th>4</th>\n",
       "      <td>WBY7Z8C5XJ</td>\n",
       "      <td>Thurston</td>\n",
       "      <td>Olympia</td>\n",
       "      <td>WA</td>\n",
       "      <td>98501.0</td>\n",
       "      <td>2018</td>\n",
       "      <td>BMW</td>\n",
       "      <td>I3</td>\n",
       "      <td>Plug-in Hybrid Electric Vehicle (PHEV)</td>\n",
       "      <td>Clean Alternative Fuel Vehicle Eligible</td>\n",
       "      <td>97</td>\n",
       "      <td>0</td>\n",
       "      <td>22.0</td>\n",
       "      <td>185498386</td>\n",
       "      <td>POINT (-122.89692 47.043535)</td>\n",
       "      <td>PUGET SOUND ENERGY INC</td>\n",
       "      <td>5.306701e+10</td>\n",
       "    </tr>\n",
       "    <tr>\n",
       "      <th>...</th>\n",
       "      <td>...</td>\n",
       "      <td>...</td>\n",
       "      <td>...</td>\n",
       "      <td>...</td>\n",
       "      <td>...</td>\n",
       "      <td>...</td>\n",
       "      <td>...</td>\n",
       "      <td>...</td>\n",
       "      <td>...</td>\n",
       "      <td>...</td>\n",
       "      <td>...</td>\n",
       "      <td>...</td>\n",
       "      <td>...</td>\n",
       "      <td>...</td>\n",
       "      <td>...</td>\n",
       "      <td>...</td>\n",
       "      <td>...</td>\n",
       "    </tr>\n",
       "    <tr>\n",
       "      <th>150461</th>\n",
       "      <td>5YJSA1E28G</td>\n",
       "      <td>King</td>\n",
       "      <td>Kent</td>\n",
       "      <td>WA</td>\n",
       "      <td>98030.0</td>\n",
       "      <td>2016</td>\n",
       "      <td>TESLA</td>\n",
       "      <td>MODEL S</td>\n",
       "      <td>Battery Electric Vehicle (BEV)</td>\n",
       "      <td>Clean Alternative Fuel Vehicle Eligible</td>\n",
       "      <td>210</td>\n",
       "      <td>0</td>\n",
       "      <td>47.0</td>\n",
       "      <td>229126621</td>\n",
       "      <td>POINT (-122.199755 47.37483)</td>\n",
       "      <td>PUGET SOUND ENERGY INC||CITY OF TACOMA - (WA)</td>\n",
       "      <td>5.303303e+10</td>\n",
       "    </tr>\n",
       "    <tr>\n",
       "      <th>150462</th>\n",
       "      <td>5YJ3E1ECXL</td>\n",
       "      <td>Pierce</td>\n",
       "      <td>Bonney Lake</td>\n",
       "      <td>WA</td>\n",
       "      <td>98391.0</td>\n",
       "      <td>2020</td>\n",
       "      <td>TESLA</td>\n",
       "      <td>MODEL 3</td>\n",
       "      <td>Battery Electric Vehicle (BEV)</td>\n",
       "      <td>Clean Alternative Fuel Vehicle Eligible</td>\n",
       "      <td>308</td>\n",
       "      <td>0</td>\n",
       "      <td>31.0</td>\n",
       "      <td>102879556</td>\n",
       "      <td>POINT (-122.183805 47.18062)</td>\n",
       "      <td>PUGET SOUND ENERGY INC||CITY OF TACOMA - (WA)</td>\n",
       "      <td>5.305307e+10</td>\n",
       "    </tr>\n",
       "    <tr>\n",
       "      <th>150467</th>\n",
       "      <td>5YJYGDEF1L</td>\n",
       "      <td>Snohomish</td>\n",
       "      <td>Edmonds</td>\n",
       "      <td>WA</td>\n",
       "      <td>98026.0</td>\n",
       "      <td>2020</td>\n",
       "      <td>TESLA</td>\n",
       "      <td>MODEL Y</td>\n",
       "      <td>Battery Electric Vehicle (BEV)</td>\n",
       "      <td>Clean Alternative Fuel Vehicle Eligible</td>\n",
       "      <td>291</td>\n",
       "      <td>0</td>\n",
       "      <td>32.0</td>\n",
       "      <td>132730125</td>\n",
       "      <td>POINT (-122.335685 47.80372)</td>\n",
       "      <td>PUGET SOUND ENERGY INC</td>\n",
       "      <td>5.306105e+10</td>\n",
       "    </tr>\n",
       "    <tr>\n",
       "      <th>150468</th>\n",
       "      <td>KNDJX3AE4G</td>\n",
       "      <td>Whatcom</td>\n",
       "      <td>Bellingham</td>\n",
       "      <td>WA</td>\n",
       "      <td>98225.0</td>\n",
       "      <td>2016</td>\n",
       "      <td>KIA</td>\n",
       "      <td>SOUL</td>\n",
       "      <td>Battery Electric Vehicle (BEV)</td>\n",
       "      <td>Clean Alternative Fuel Vehicle Eligible</td>\n",
       "      <td>93</td>\n",
       "      <td>31950</td>\n",
       "      <td>42.0</td>\n",
       "      <td>223923871</td>\n",
       "      <td>POINT (-122.486115 48.761615)</td>\n",
       "      <td>PUGET SOUND ENERGY INC||PUD NO 1 OF WHATCOM CO...</td>\n",
       "      <td>5.307300e+10</td>\n",
       "    </tr>\n",
       "    <tr>\n",
       "      <th>150480</th>\n",
       "      <td>5UXTA6C08P</td>\n",
       "      <td>Snohomish</td>\n",
       "      <td>Mountlake Terrace</td>\n",
       "      <td>WA</td>\n",
       "      <td>98043.0</td>\n",
       "      <td>2023</td>\n",
       "      <td>BMW</td>\n",
       "      <td>X5</td>\n",
       "      <td>Plug-in Hybrid Electric Vehicle (PHEV)</td>\n",
       "      <td>Clean Alternative Fuel Vehicle Eligible</td>\n",
       "      <td>30</td>\n",
       "      <td>0</td>\n",
       "      <td>1.0</td>\n",
       "      <td>240473950</td>\n",
       "      <td>POINT (-122.30842 47.78416)</td>\n",
       "      <td>PUGET SOUND ENERGY INC</td>\n",
       "      <td>5.306105e+10</td>\n",
       "    </tr>\n",
       "  </tbody>\n",
       "</table>\n",
       "<p>80557 rows × 17 columns</p>\n",
       "</div>"
      ],
      "text/plain": [
       "        VIN (1-10)     County               City State  Postal Code  \\\n",
       "0       KM8K33AGXL       King            Seattle    WA      98103.0   \n",
       "1       1C4RJYB61N       King            Bothell    WA      98011.0   \n",
       "2       1C4RJYD61P     Yakima             Yakima    WA      98908.0   \n",
       "3       5YJ3E1EA7J       King           Kirkland    WA      98034.0   \n",
       "4       WBY7Z8C5XJ   Thurston            Olympia    WA      98501.0   \n",
       "...            ...        ...                ...   ...          ...   \n",
       "150461  5YJSA1E28G       King               Kent    WA      98030.0   \n",
       "150462  5YJ3E1ECXL     Pierce        Bonney Lake    WA      98391.0   \n",
       "150467  5YJYGDEF1L  Snohomish            Edmonds    WA      98026.0   \n",
       "150468  KNDJX3AE4G    Whatcom         Bellingham    WA      98225.0   \n",
       "150480  5UXTA6C08P  Snohomish  Mountlake Terrace    WA      98043.0   \n",
       "\n",
       "        Model Year     Make           Model  \\\n",
       "0             2020  HYUNDAI            KONA   \n",
       "1             2022     JEEP  GRAND CHEROKEE   \n",
       "2             2023     JEEP  GRAND CHEROKEE   \n",
       "3             2018    TESLA         MODEL 3   \n",
       "4             2018      BMW              I3   \n",
       "...            ...      ...             ...   \n",
       "150461        2016    TESLA         MODEL S   \n",
       "150462        2020    TESLA         MODEL 3   \n",
       "150467        2020    TESLA         MODEL Y   \n",
       "150468        2016      KIA            SOUL   \n",
       "150480        2023      BMW              X5   \n",
       "\n",
       "                         Electric Vehicle Type  \\\n",
       "0               Battery Electric Vehicle (BEV)   \n",
       "1       Plug-in Hybrid Electric Vehicle (PHEV)   \n",
       "2       Plug-in Hybrid Electric Vehicle (PHEV)   \n",
       "3               Battery Electric Vehicle (BEV)   \n",
       "4       Plug-in Hybrid Electric Vehicle (PHEV)   \n",
       "...                                        ...   \n",
       "150461          Battery Electric Vehicle (BEV)   \n",
       "150462          Battery Electric Vehicle (BEV)   \n",
       "150467          Battery Electric Vehicle (BEV)   \n",
       "150468          Battery Electric Vehicle (BEV)   \n",
       "150480  Plug-in Hybrid Electric Vehicle (PHEV)   \n",
       "\n",
       "       Clean Alternative Fuel Vehicle (CAFV) Eligibility  Electric Range  \\\n",
       "0                Clean Alternative Fuel Vehicle Eligible             258   \n",
       "1                  Not eligible due to low battery range              25   \n",
       "2                  Not eligible due to low battery range              25   \n",
       "3                Clean Alternative Fuel Vehicle Eligible             215   \n",
       "4                Clean Alternative Fuel Vehicle Eligible              97   \n",
       "...                                                  ...             ...   \n",
       "150461           Clean Alternative Fuel Vehicle Eligible             210   \n",
       "150462           Clean Alternative Fuel Vehicle Eligible             308   \n",
       "150467           Clean Alternative Fuel Vehicle Eligible             291   \n",
       "150468           Clean Alternative Fuel Vehicle Eligible              93   \n",
       "150480           Clean Alternative Fuel Vehicle Eligible              30   \n",
       "\n",
       "        Base MSRP  Legislative District  DOL Vehicle ID  \\\n",
       "0               0                  43.0       249675142   \n",
       "1               0                   1.0       233928502   \n",
       "2               0                  14.0       229675939   \n",
       "3               0                  45.0       104714466   \n",
       "4               0                  22.0       185498386   \n",
       "...           ...                   ...             ...   \n",
       "150461          0                  47.0       229126621   \n",
       "150462          0                  31.0       102879556   \n",
       "150467          0                  32.0       132730125   \n",
       "150468      31950                  42.0       223923871   \n",
       "150480          0                   1.0       240473950   \n",
       "\n",
       "                       Vehicle Location  \\\n",
       "0          POINT (-122.34301 47.659185)   \n",
       "1          POINT (-122.20578 47.762405)   \n",
       "2       POINT (-120.6027202 46.5965625)   \n",
       "3          POINT (-122.209285 47.71124)   \n",
       "4          POINT (-122.89692 47.043535)   \n",
       "...                                 ...   \n",
       "150461     POINT (-122.199755 47.37483)   \n",
       "150462     POINT (-122.183805 47.18062)   \n",
       "150467     POINT (-122.335685 47.80372)   \n",
       "150468    POINT (-122.486115 48.761615)   \n",
       "150480      POINT (-122.30842 47.78416)   \n",
       "\n",
       "                                         Electric Utility  2020 Census Tract  \n",
       "0            CITY OF SEATTLE - (WA)|CITY OF TACOMA - (WA)       5.303300e+10  \n",
       "1           PUGET SOUND ENERGY INC||CITY OF TACOMA - (WA)       5.303302e+10  \n",
       "2                                              PACIFICORP       5.307700e+10  \n",
       "3           PUGET SOUND ENERGY INC||CITY OF TACOMA - (WA)       5.303302e+10  \n",
       "4                                  PUGET SOUND ENERGY INC       5.306701e+10  \n",
       "...                                                   ...                ...  \n",
       "150461      PUGET SOUND ENERGY INC||CITY OF TACOMA - (WA)       5.303303e+10  \n",
       "150462      PUGET SOUND ENERGY INC||CITY OF TACOMA - (WA)       5.305307e+10  \n",
       "150467                             PUGET SOUND ENERGY INC       5.306105e+10  \n",
       "150468  PUGET SOUND ENERGY INC||PUD NO 1 OF WHATCOM CO...       5.307300e+10  \n",
       "150480                             PUGET SOUND ENERGY INC       5.306105e+10  \n",
       "\n",
       "[80557 rows x 17 columns]"
      ]
     },
     "execution_count": 237,
     "metadata": {},
     "output_type": "execute_result"
    }
   ],
   "source": [
    "#To address the NA values with Electric Range = 0\n",
    "#This dataset has only EV Cars (Battery Electric Vehicle (BEV) and Plug-in Hybrid Electric Vehicle (PHEV)\n",
    "EDF_ActualData = EDF[EDF['Electric Range']>0]\n",
    "EDF_ActualData"
   ]
  },
  {
   "cell_type": "code",
   "execution_count": 238,
   "id": "1af1ad2a",
   "metadata": {},
   "outputs": [],
   "source": [
    "#We want to only explore the EV Battery Electric Vehicles (BEV)\n",
    "EV_df=EDF_ActualData[EDF_ActualData['Electric Vehicle Type']=='Battery Electric Vehicle (BEV)']"
   ]
  },
  {
   "cell_type": "code",
   "execution_count": 239,
   "id": "79b0dd15",
   "metadata": {},
   "outputs": [
    {
     "data": {
      "text/plain": [
       "(47003, 17)"
      ]
     },
     "execution_count": 239,
     "metadata": {},
     "output_type": "execute_result"
    }
   ],
   "source": [
    "#Looking at the shape of the dataset after dropping NA values\n",
    "EV_df.shape"
   ]
  },
  {
   "cell_type": "code",
   "execution_count": 240,
   "id": "93c043b2",
   "metadata": {},
   "outputs": [
    {
     "data": {
      "text/plain": [
       "Electric Vehicle Type         \n",
       "Battery Electric Vehicle (BEV)    47003\n",
       "dtype: int64"
      ]
     },
     "execution_count": 240,
     "metadata": {},
     "output_type": "execute_result"
    }
   ],
   "source": [
    "EV_df[['Electric Vehicle Type']].value_counts()"
   ]
  },
  {
   "cell_type": "markdown",
   "id": "8b7a0a8d",
   "metadata": {},
   "source": [
    "## Retrieving Insights on the Dataset"
   ]
  },
  {
   "cell_type": "markdown",
   "id": "074ae61c",
   "metadata": {},
   "source": [
    "### Confirming that we are working only with Electric Vehicle Type"
   ]
  },
  {
   "cell_type": "code",
   "execution_count": 241,
   "id": "afd26a45",
   "metadata": {},
   "outputs": [
    {
     "data": {
      "text/plain": [
       "Electric Vehicle Type         \n",
       "Battery Electric Vehicle (BEV)    47003\n",
       "dtype: int64"
      ]
     },
     "execution_count": 241,
     "metadata": {},
     "output_type": "execute_result"
    }
   ],
   "source": [
    "EV_df[['Electric Vehicle Type']].value_counts()"
   ]
  },
  {
   "cell_type": "markdown",
   "id": "f93027e2",
   "metadata": {},
   "source": [
    "Battery Electric Vehicle (BEV)    47003"
   ]
  },
  {
   "cell_type": "markdown",
   "id": "e7e481ea",
   "metadata": {},
   "source": [
    "### Consumption of EV Cars Based on Location (e.g. County, City, Postal Code)"
   ]
  },
  {
   "cell_type": "markdown",
   "id": "92207fe1",
   "metadata": {},
   "source": [
    "__Consumption on EV Cars Based on County__"
   ]
  },
  {
   "cell_type": "markdown",
   "id": "f4dfca82",
   "metadata": {},
   "source": [
    "_Which have the County has the most and least consumption of EV Cars? (Top 5 and Bottom 5)_"
   ]
  },
  {
   "cell_type": "code",
   "execution_count": 242,
   "id": "4f6e441a",
   "metadata": {},
   "outputs": [
    {
     "data": {
      "text/plain": [
       "King         25023\n",
       "Snohomish     5105\n",
       "Pierce        3318\n",
       "Clark         2662\n",
       "Thurston      1727\n",
       "Name: County, dtype: int64"
      ]
     },
     "execution_count": 242,
     "metadata": {},
     "output_type": "execute_result"
    }
   ],
   "source": [
    "CountyConsumption = EV_df['County'].value_counts()\n",
    "Top5County=CountyConsumption.head(5)\n",
    "Top5County"
   ]
  },
  {
   "cell_type": "code",
   "execution_count": 243,
   "id": "1e949ddd",
   "metadata": {},
   "outputs": [
    {
     "data": {
      "text/plain": [
       "Pend Oreille    12\n",
       "Wahkiakum       12\n",
       "Ferry           10\n",
       "Lincoln          8\n",
       "Columbia         5\n",
       "Name: County, dtype: int64"
      ]
     },
     "execution_count": 243,
     "metadata": {},
     "output_type": "execute_result"
    }
   ],
   "source": [
    "CountyConsumption = EV_df['County'].value_counts()\n",
    "CountyConsumption.tail(5)"
   ]
  },
  {
   "cell_type": "markdown",
   "id": "1322edf1",
   "metadata": {},
   "source": [
    "_Visualizations for Top 5 County Consumption_"
   ]
  },
  {
   "cell_type": "code",
   "execution_count": 244,
   "id": "cd071deb",
   "metadata": {},
   "outputs": [
    {
     "data": {
      "text/plain": [
       "Text(0.5, 1.0, 'Top 5 Counties by EV Consumption')"
      ]
     },
     "execution_count": 244,
     "metadata": {},
     "output_type": "execute_result"
    },
    {
     "data": {
      "image/png": "[encoded data removed]",
      "text/plain": [
       "<Figure size 640x480 with 1 Axes>"
      ]
     },
     "metadata": {},
     "output_type": "display_data"
    }
   ],
   "source": [
    "sns.barplot(x=Top5County.index, y=Top5County.values)\n",
    "plt.xlabel('Name of Counties')\n",
    "plt.ylabel('Count')\n",
    "plt.title('Top 5 Counties by EV Consumption')"
   ]
  },
  {
   "cell_type": "markdown",
   "id": "ea36c885",
   "metadata": {},
   "source": [
    "__Consumption on EV Cars Based on City__"
   ]
  },
  {
   "cell_type": "markdown",
   "id": "c9e42905",
   "metadata": {},
   "source": [
    "_Which Cities have the most and least consumption of EV Cars? (Top 5 and Bottom 5)_"
   ]
  },
  {
   "cell_type": "code",
   "execution_count": 245,
   "id": "213bad2c",
   "metadata": {},
   "outputs": [
    {
     "data": {
      "text/plain": [
       "Seattle      8821\n",
       "Bellevue     2529\n",
       "Redmond      1803\n",
       "Vancouver    1598\n",
       "Kirkland     1577\n",
       "Name: City, dtype: int64"
      ]
     },
     "execution_count": 245,
     "metadata": {},
     "output_type": "execute_result"
    }
   ],
   "source": [
    "CityConsumption = EV_df['City'].value_counts()\n",
    "Top5City=CityConsumption.head(5)\n",
    "Top5City"
   ]
  },
  {
   "cell_type": "code",
   "execution_count": 246,
   "id": "481a026f",
   "metadata": {},
   "outputs": [
    {
     "data": {
      "text/plain": [
       "Bingen        1\n",
       "Coulee Dam    1\n",
       "Inchelium     1\n",
       "Curlew        1\n",
       "Touchet       1\n",
       "Name: City, dtype: int64"
      ]
     },
     "execution_count": 246,
     "metadata": {},
     "output_type": "execute_result"
    }
   ],
   "source": [
    "CityConsumption.tail(5)"
   ]
  },
  {
   "cell_type": "markdown",
   "id": "6652a5e1",
   "metadata": {},
   "source": [
    "_Visualizations for Top 5 County Consumption_"
   ]
  },
  {
   "cell_type": "code",
   "execution_count": 247,
   "id": "d8827801",
   "metadata": {},
   "outputs": [
    {
     "data": {
      "text/plain": [
       "Text(0.5, 1.0, 'Top 5 Cities by EV Consumption')"
      ]
     },
     "execution_count": 247,
     "metadata": {},
     "output_type": "execute_result"
    },
    {
     "data": {
      "image/png": "[encoded data removed]",
      "text/plain": [
       "<Figure size 640x480 with 1 Axes>"
      ]
     },
     "metadata": {},
     "output_type": "display_data"
    }
   ],
   "source": [
    "sns.barplot(x=Top5City.index, y=Top5City.values)\n",
    "plt.xlabel('Name of Cities')\n",
    "plt.ylabel('Count')\n",
    "plt.title('Top 5 Cities by EV Consumption')"
   ]
  },
  {
   "cell_type": "markdown",
   "id": "6d0a19ec",
   "metadata": {},
   "source": [
    "__Consumption on EV Cars Based on Postal Codes__"
   ]
  },
  {
   "cell_type": "markdown",
   "id": "0a99f0b5",
   "metadata": {},
   "source": [
    "_Which Postal Codes have the most and least consumption of EV Cars? (Top 5 and Bottom 5)_"
   ]
  },
  {
   "cell_type": "code",
   "execution_count": 248,
   "id": "d8aa7380",
   "metadata": {},
   "outputs": [
    {
     "data": {
      "text/plain": [
       "98052.0    1210\n",
       "98033.0     908\n",
       "98115.0     837\n",
       "98006.0     811\n",
       "98004.0     786\n",
       "Name: Postal Code, dtype: int64"
      ]
     },
     "execution_count": 248,
     "metadata": {},
     "output_type": "execute_result"
    }
   ],
   "source": [
    "PostalCodeConsumption = EV_df['Postal Code'].value_counts()\n",
    "Top5PostalCodes=PostalCodeConsumption.head(5) \n",
    "Top5PostalCodes"
   ]
  },
  {
   "cell_type": "code",
   "execution_count": 249,
   "id": "bd43775e",
   "metadata": {},
   "outputs": [
    {
     "data": {
      "text/plain": [
       "99116.0    1\n",
       "99138.0    1\n",
       "99118.0    1\n",
       "98614.0    1\n",
       "99360.0    1\n",
       "Name: Postal Code, dtype: int64"
      ]
     },
     "execution_count": 249,
     "metadata": {},
     "output_type": "execute_result"
    }
   ],
   "source": [
    "PostalCodeConsumption = EV_df['Postal Code'].value_counts()\n",
    "PostalCodeConsumption.tail(5)"
   ]
  },
  {
   "cell_type": "markdown",
   "id": "ca7fb9bd",
   "metadata": {},
   "source": [
    "_Visualizations for Top 5 Postal Codes by EV Consumpution_"
   ]
  },
  {
   "cell_type": "code",
   "execution_count": 250,
   "id": "4e40828a",
   "metadata": {},
   "outputs": [
    {
     "data": {
      "text/plain": [
       "Text(0.5, 1.0, 'Top 5 Postal Codes by EV Consumpution')"
      ]
     },
     "execution_count": 250,
     "metadata": {},
     "output_type": "execute_result"
    },
    {
     "data": {
      "image/png": "[encoded data removed]",
      "text/plain": [
       "<Figure size 640x480 with 1 Axes>"
      ]
     },
     "metadata": {},
     "output_type": "display_data"
    }
   ],
   "source": [
    "sns.barplot(x=Top5PostalCodes.index, y=Top5PostalCodes.values)\n",
    "plt.xlabel('Post Code Number')\n",
    "plt.ylabel('Count')\n",
    "plt.title('Top 5 Postal Codes by EV Consumpution')"
   ]
  },
  {
   "cell_type": "markdown",
   "id": "ed2379b4",
   "metadata": {},
   "source": [
    "### Popularity of EV Cars Based on Vehicle Characteristics (e.g. M ake and Model)"
   ]
  },
  {
   "cell_type": "markdown",
   "id": "ed4aa1bd",
   "metadata": {},
   "source": [
    "__Examining Vehicle Makes (Different Car Brands)__"
   ]
  },
  {
   "cell_type": "code",
   "execution_count": 251,
   "id": "84680949",
   "metadata": {},
   "outputs": [],
   "source": [
    "CarMakePopularity = EDF['Make'].value_counts()"
   ]
  },
  {
   "cell_type": "code",
   "execution_count": 252,
   "id": "cd16f785",
   "metadata": {},
   "outputs": [
    {
     "data": {
      "text/plain": [
       "36"
      ]
     },
     "execution_count": 252,
     "metadata": {},
     "output_type": "execute_result"
    }
   ],
   "source": [
    "CarMakePopularity.nunique() #There are 36 EV Car Makes that are used within the state of WA"
   ]
  },
  {
   "cell_type": "code",
   "execution_count": 253,
   "id": "3723aa29",
   "metadata": {},
   "outputs": [
    {
     "data": {
      "text/plain": [
       "Index(['TESLA', 'NISSAN', 'CHEVROLET', 'FORD', 'BMW', 'KIA', 'TOYOTA',\n",
       "       'VOLKSWAGEN', 'VOLVO', 'JEEP', 'HYUNDAI', 'AUDI', 'CHRYSLER', 'RIVIAN',\n",
       "       'MERCEDES-BENZ', 'PORSCHE', 'MITSUBISHI', 'HONDA', 'FIAT', 'MINI',\n",
       "       'POLESTAR', 'SUBARU', 'SMART', 'LINCOLN', 'JAGUAR', 'LUCID', 'CADILLAC',\n",
       "       'LEXUS', 'MAZDA', 'GENESIS', 'LAND ROVER', 'FISKER', 'ALFA ROMEO',\n",
       "       'AZURE DYNAMICS', 'TH!NK', 'WHEEGO ELECTRIC CARS', 'BENTLEY'],\n",
       "      dtype='object')"
      ]
     },
     "execution_count": 253,
     "metadata": {},
     "output_type": "execute_result"
    }
   ],
   "source": [
    "CarMakePopularity.keys() #The names of all the 36 Car Makes"
   ]
  },
  {
   "cell_type": "code",
   "execution_count": 254,
   "id": "ebfb53d5",
   "metadata": {},
   "outputs": [
    {
     "data": {
      "text/plain": [
       "TESLA             25819\n",
       "NISSAN            10989\n",
       "CHEVROLET          3955\n",
       "KIA                1493\n",
       "VOLKSWAGEN         1073\n",
       "FIAT                806\n",
       "AUDI                648\n",
       "BMW                 557\n",
       "SMART               274\n",
       "HYUNDAI             271\n",
       "FORD                251\n",
       "PORSCHE             206\n",
       "JAGUAR              199\n",
       "MINI                124\n",
       "POLESTAR            118\n",
       "MERCEDES-BENZ        88\n",
       "TOYOTA               59\n",
       "MITSUBISHI           59\n",
       "AZURE DYNAMICS        9\n",
       "TH!NK                 5\n",
       "Name: Make, dtype: int64"
      ]
     },
     "execution_count": 254,
     "metadata": {},
     "output_type": "execute_result"
    }
   ],
   "source": [
    "EV_df['Make'].value_counts() #A count for the number of Instances for Each Car Make "
   ]
  },
  {
   "cell_type": "markdown",
   "id": "077c6927",
   "metadata": {},
   "source": [
    "_What are the Top 5 cars makes within the state of WA?_"
   ]
  },
  {
   "cell_type": "code",
   "execution_count": 255,
   "id": "2777723a",
   "metadata": {},
   "outputs": [],
   "source": [
    "Top5CarMakes=EV_df['Make'].value_counts().head()"
   ]
  },
  {
   "cell_type": "code",
   "execution_count": 256,
   "id": "38f30079",
   "metadata": {},
   "outputs": [
    {
     "data": {
      "text/plain": [
       "Text(0.5, 1.0, 'Top 5 Car Makes/Brands within the state of WA')"
      ]
     },
     "execution_count": 256,
     "metadata": {},
     "output_type": "execute_result"
    },
    {
     "data": {
      "image/png": "[encoded data removed]",
      "text/plain": [
       "<Figure size 640x480 with 1 Axes>"
      ]
     },
     "metadata": {},
     "output_type": "display_data"
    }
   ],
   "source": [
    "sns.barplot(x=Top5CarMakes.index, y=Top5CarMakes.values)\n",
    "plt.xlabel('Car Make/Brand')\n",
    "plt.ylabel('Count')\n",
    "plt.title('Top 5 Car Makes/Brands within the state of WA')"
   ]
  },
  {
   "cell_type": "markdown",
   "id": "e6e86a7f",
   "metadata": {},
   "source": [
    "_Deriving the Companies with the Highest Market Share_"
   ]
  },
  {
   "cell_type": "code",
   "execution_count": 257,
   "id": "5699bf7e",
   "metadata": {},
   "outputs": [
    {
     "data": {
      "text/plain": [
       "47003"
      ]
     },
     "execution_count": 257,
     "metadata": {},
     "output_type": "execute_result"
    }
   ],
   "source": [
    "EV_df['Make'].count()"
   ]
  },
  {
   "cell_type": "code",
   "execution_count": 258,
   "id": "ff018b16",
   "metadata": {},
   "outputs": [
    {
     "data": {
      "image/png": "[encoded data removed]",
      "text/plain": [
       "<Figure size 640x480 with 1 Axes>"
      ]
     },
     "metadata": {},
     "output_type": "display_data"
    }
   ],
   "source": [
    "data = [25819, 10989, 3955, 1493, 1073, 806, 648, 557, 274, 1289]\n",
    "labels = ['TESLA', 'NISSAN', 'CHEVROLET', 'KIA', 'VOLKSWAGEN', 'FIAT', 'AUDI', 'BMW', 'SMART', 'OTHERS']\n",
    "\n",
    "# Defining the colors\n",
    "colors = sns.color_palette('pastel')[0:10]\n",
    "\n",
    "# Create the pie chart and assiging it atitle\n",
    "plt.pie(data, labels=labels, colors=colors, autopct='%.0f%%')\n",
    "plt.title(\"Market Share of EV Cars from 2017-2023\")\n",
    "\n",
    "# Show the pie chart\n",
    "plt.show()"
   ]
  },
  {
   "cell_type": "markdown",
   "id": "5698362e",
   "metadata": {},
   "source": [
    "_Examining the Top 5 Car Makes and their most popular Car Models_"
   ]
  },
  {
   "cell_type": "markdown",
   "id": "d798389d",
   "metadata": {},
   "source": [
    "* Which are Tesla EV Models are Most Consumed? "
   ]
  },
  {
   "cell_type": "code",
   "execution_count": 259,
   "id": "6cb3d9f7",
   "metadata": {},
   "outputs": [],
   "source": [
    "EV_Tesla=EV_df[EV_df['Make']=='TESLA']"
   ]
  },
  {
   "cell_type": "code",
   "execution_count": 260,
   "id": "6352dd40",
   "metadata": {
    "scrolled": true
   },
   "outputs": [
    {
     "data": {
      "text/plain": [
       "MODEL 3     14056\n",
       "MODEL S      6142\n",
       "MODEL X      3303\n",
       "MODEL Y      2272\n",
       "ROADSTER       46\n",
       "Name: Model, dtype: int64"
      ]
     },
     "execution_count": 260,
     "metadata": {},
     "output_type": "execute_result"
    }
   ],
   "source": [
    "EV_Tesla['Model'].value_counts()"
   ]
  },
  {
   "cell_type": "markdown",
   "id": "c5aafd7c",
   "metadata": {},
   "source": [
    "* Which are Nissan EV Models are Most Consumed? "
   ]
  },
  {
   "cell_type": "code",
   "execution_count": 261,
   "id": "628e4d2e",
   "metadata": {},
   "outputs": [],
   "source": [
    "EV_Nissan=EV_df[EV_df['Make']=='NISSAN']"
   ]
  },
  {
   "cell_type": "code",
   "execution_count": 262,
   "id": "5a794c0d",
   "metadata": {},
   "outputs": [
    {
     "data": {
      "text/plain": [
       "LEAF    10989\n",
       "Name: Model, dtype: int64"
      ]
     },
     "execution_count": 262,
     "metadata": {},
     "output_type": "execute_result"
    }
   ],
   "source": [
    "EV_Nissan['Model'].value_counts()"
   ]
  },
  {
   "cell_type": "markdown",
   "id": "81ddeff9",
   "metadata": {},
   "source": [
    "* Which are Chevrolet EV Models are Most Consumed?"
   ]
  },
  {
   "cell_type": "code",
   "execution_count": 263,
   "id": "56d83f5c",
   "metadata": {},
   "outputs": [],
   "source": [
    "EV_Chevrolet=EV_df[EV_df['Make']=='CHEVROLET']"
   ]
  },
  {
   "cell_type": "code",
   "execution_count": 264,
   "id": "9b964ff4",
   "metadata": {},
   "outputs": [
    {
     "data": {
      "text/plain": [
       "BOLT EV        3706\n",
       "SPARK           248\n",
       "S-10 PICKUP       1\n",
       "Name: Model, dtype: int64"
      ]
     },
     "execution_count": 264,
     "metadata": {},
     "output_type": "execute_result"
    }
   ],
   "source": [
    "EV_Chevrolet['Model'].value_counts()"
   ]
  },
  {
   "cell_type": "markdown",
   "id": "ffcca5c8",
   "metadata": {},
   "source": [
    "* Which Kia EV Models are Most Consumed?"
   ]
  },
  {
   "cell_type": "code",
   "execution_count": 265,
   "id": "1b3a0756",
   "metadata": {},
   "outputs": [],
   "source": [
    "EV_Kia=EV_df[EV_df['Make']=='KIA']"
   ]
  },
  {
   "cell_type": "code",
   "execution_count": 266,
   "id": "f711eae5",
   "metadata": {},
   "outputs": [
    {
     "data": {
      "text/plain": [
       "NIRO       848\n",
       "SOUL       420\n",
       "SOUL EV    225\n",
       "Name: Model, dtype: int64"
      ]
     },
     "execution_count": 266,
     "metadata": {},
     "output_type": "execute_result"
    }
   ],
   "source": [
    "EV_Kia['Model'].value_counts()"
   ]
  },
  {
   "cell_type": "markdown",
   "id": "684e3f06",
   "metadata": {},
   "source": [
    "* Which Volkswagen EV Models are Most Consumed?"
   ]
  },
  {
   "cell_type": "code",
   "execution_count": 267,
   "id": "01735aa5",
   "metadata": {},
   "outputs": [],
   "source": [
    "EV_Volkswagen=EV_df[EV_df['Make']=='VOLKSWAGEN']"
   ]
  },
  {
   "cell_type": "code",
   "execution_count": 268,
   "id": "fe531bac",
   "metadata": {},
   "outputs": [
    {
     "data": {
      "text/plain": [
       "E-GOLF    1073\n",
       "Name: Model, dtype: int64"
      ]
     },
     "execution_count": 268,
     "metadata": {},
     "output_type": "execute_result"
    }
   ],
   "source": [
    "EV_Volkswagen['Model'].value_counts()"
   ]
  },
  {
   "cell_type": "code",
   "execution_count": 269,
   "id": "20fe7bb6",
   "metadata": {},
   "outputs": [],
   "source": [
    "# The Top model is each brands are as follows:\n",
    "#     TESLA - MODEL 3\n",
    "#     NISSAN - LEAF\n",
    "#     CHEVROLET - BOLT EV\n",
    "#     KIA - NIRO\n",
    "#     VOLKSWAGEN - E-GOLF"
   ]
  },
  {
   "cell_type": "markdown",
   "id": "bf8f9a0e",
   "metadata": {},
   "source": [
    "__Drawing a Barplot to Visually Present the Top 5 Makes and their Top Models by frequency__"
   ]
  },
  {
   "cell_type": "code",
   "execution_count": 270,
   "id": "24b0ef3b",
   "metadata": {},
   "outputs": [
    {
     "data": {
      "image/png": "[encoded data removed]",
      "text/plain": [
       "<Figure size 640x480 with 1 Axes>"
      ]
     },
     "metadata": {},
     "output_type": "display_data"
    }
   ],
   "source": [
    "import seaborn as sns\n",
    "import matplotlib.pyplot as plt\n",
    "\n",
    "data = [14056, 10989, 3706, 848, 1073]\n",
    "labels = ['TESLA - MODEL 3', 'NISSAN- LEAF', 'CHEVROLET- BOLT EV', 'KIA- NIRO', 'VOLKSWAGEN- E-GOLF']\n",
    "sns.barplot(x=labels, y=data)\n",
    "plt.xlabel('Name of Vehicle Make and Model')\n",
    "plt.ylabel('Count')\n",
    "plt.xticks(rotation=45)\n",
    "plt.title('Top 5 Car Models and their Top Makes')\n",
    "plt.show()"
   ]
  },
  {
   "cell_type": "markdown",
   "id": "1cde23aa",
   "metadata": {},
   "source": [
    "### Examining Data for EV Cars Based on Range (EV Cars and their Range)"
   ]
  },
  {
   "cell_type": "markdown",
   "id": "2f471305",
   "metadata": {},
   "source": [
    "__Overall Range for all EV cars:__ What is the Range for EV Cars?"
   ]
  },
  {
   "cell_type": "code",
   "execution_count": 271,
   "id": "3ad7ccaa",
   "metadata": {},
   "outputs": [
    {
     "data": {
      "text/plain": [
       "<Axes: xlabel='Electric Range'>"
      ]
     },
     "execution_count": 271,
     "metadata": {},
     "output_type": "execute_result"
    },
    {
     "data": {
      "image/png": "[encoded data removed]",
      "text/plain": [
       "<Figure size 640x480 with 1 Axes>"
      ]
     },
     "metadata": {},
     "output_type": "display_data"
    }
   ],
   "source": [
    "import seaborn as sns\n",
    "sns.boxplot(data=EV_df, x=\"Electric Range\")"
   ]
  },
  {
   "cell_type": "code",
   "execution_count": 272,
   "id": "1dd609df",
   "metadata": {},
   "outputs": [
    {
     "data": {
      "text/html": [
       "<div>\n",
       "<style scoped>\n",
       "    .dataframe tbody tr th:only-of-type {\n",
       "        vertical-align: middle;\n",
       "    }\n",
       "\n",
       "    .dataframe tbody tr th {\n",
       "        vertical-align: top;\n",
       "    }\n",
       "\n",
       "    .dataframe thead th {\n",
       "        text-align: right;\n",
       "    }\n",
       "</style>\n",
       "<table border=\"1\" class=\"dataframe\">\n",
       "  <thead>\n",
       "    <tr style=\"text-align: right;\">\n",
       "      <th></th>\n",
       "      <th>VIN (1-10)</th>\n",
       "      <th>County</th>\n",
       "      <th>City</th>\n",
       "      <th>State</th>\n",
       "      <th>Postal Code</th>\n",
       "      <th>Model Year</th>\n",
       "      <th>Make</th>\n",
       "      <th>Model</th>\n",
       "      <th>Electric Vehicle Type</th>\n",
       "      <th>Clean Alternative Fuel Vehicle (CAFV) Eligibility</th>\n",
       "      <th>Electric Range</th>\n",
       "      <th>Base MSRP</th>\n",
       "      <th>Legislative District</th>\n",
       "      <th>DOL Vehicle ID</th>\n",
       "      <th>Vehicle Location</th>\n",
       "      <th>Electric Utility</th>\n",
       "      <th>2020 Census Tract</th>\n",
       "    </tr>\n",
       "  </thead>\n",
       "  <tbody>\n",
       "    <tr>\n",
       "      <th>0</th>\n",
       "      <td>KM8K33AGXL</td>\n",
       "      <td>King</td>\n",
       "      <td>Seattle</td>\n",
       "      <td>WA</td>\n",
       "      <td>98103.0</td>\n",
       "      <td>2020</td>\n",
       "      <td>HYUNDAI</td>\n",
       "      <td>KONA</td>\n",
       "      <td>Battery Electric Vehicle (BEV)</td>\n",
       "      <td>Clean Alternative Fuel Vehicle Eligible</td>\n",
       "      <td>258</td>\n",
       "      <td>0</td>\n",
       "      <td>43.0</td>\n",
       "      <td>249675142</td>\n",
       "      <td>POINT (-122.34301 47.659185)</td>\n",
       "      <td>CITY OF SEATTLE - (WA)|CITY OF TACOMA - (WA)</td>\n",
       "      <td>5.303300e+10</td>\n",
       "    </tr>\n",
       "    <tr>\n",
       "      <th>3</th>\n",
       "      <td>5YJ3E1EA7J</td>\n",
       "      <td>King</td>\n",
       "      <td>Kirkland</td>\n",
       "      <td>WA</td>\n",
       "      <td>98034.0</td>\n",
       "      <td>2018</td>\n",
       "      <td>TESLA</td>\n",
       "      <td>MODEL 3</td>\n",
       "      <td>Battery Electric Vehicle (BEV)</td>\n",
       "      <td>Clean Alternative Fuel Vehicle Eligible</td>\n",
       "      <td>215</td>\n",
       "      <td>0</td>\n",
       "      <td>45.0</td>\n",
       "      <td>104714466</td>\n",
       "      <td>POINT (-122.209285 47.71124)</td>\n",
       "      <td>PUGET SOUND ENERGY INC||CITY OF TACOMA - (WA)</td>\n",
       "      <td>5.303302e+10</td>\n",
       "    </tr>\n",
       "    <tr>\n",
       "      <th>5</th>\n",
       "      <td>5YJ3E1EAXL</td>\n",
       "      <td>Snohomish</td>\n",
       "      <td>Marysville</td>\n",
       "      <td>WA</td>\n",
       "      <td>98271.0</td>\n",
       "      <td>2020</td>\n",
       "      <td>TESLA</td>\n",
       "      <td>MODEL 3</td>\n",
       "      <td>Battery Electric Vehicle (BEV)</td>\n",
       "      <td>Clean Alternative Fuel Vehicle Eligible</td>\n",
       "      <td>266</td>\n",
       "      <td>0</td>\n",
       "      <td>38.0</td>\n",
       "      <td>124595523</td>\n",
       "      <td>POINT (-122.1713847 48.10433)</td>\n",
       "      <td>PUGET SOUND ENERGY INC</td>\n",
       "      <td>5.306194e+10</td>\n",
       "    </tr>\n",
       "    <tr>\n",
       "      <th>7</th>\n",
       "      <td>5YJYGDEE3L</td>\n",
       "      <td>King</td>\n",
       "      <td>Woodinville</td>\n",
       "      <td>WA</td>\n",
       "      <td>98072.0</td>\n",
       "      <td>2020</td>\n",
       "      <td>TESLA</td>\n",
       "      <td>MODEL Y</td>\n",
       "      <td>Battery Electric Vehicle (BEV)</td>\n",
       "      <td>Clean Alternative Fuel Vehicle Eligible</td>\n",
       "      <td>291</td>\n",
       "      <td>0</td>\n",
       "      <td>45.0</td>\n",
       "      <td>124760555</td>\n",
       "      <td>POINT (-122.151665 47.75855)</td>\n",
       "      <td>PUGET SOUND ENERGY INC||CITY OF TACOMA - (WA)</td>\n",
       "      <td>5.303302e+10</td>\n",
       "    </tr>\n",
       "    <tr>\n",
       "      <th>8</th>\n",
       "      <td>5YJ3E1EA1J</td>\n",
       "      <td>Island</td>\n",
       "      <td>Coupeville</td>\n",
       "      <td>WA</td>\n",
       "      <td>98239.0</td>\n",
       "      <td>2018</td>\n",
       "      <td>TESLA</td>\n",
       "      <td>MODEL 3</td>\n",
       "      <td>Battery Electric Vehicle (BEV)</td>\n",
       "      <td>Clean Alternative Fuel Vehicle Eligible</td>\n",
       "      <td>215</td>\n",
       "      <td>0</td>\n",
       "      <td>10.0</td>\n",
       "      <td>125048003</td>\n",
       "      <td>POINT (-122.6880708 48.2179983)</td>\n",
       "      <td>PUGET SOUND ENERGY INC</td>\n",
       "      <td>5.302997e+10</td>\n",
       "    </tr>\n",
       "    <tr>\n",
       "      <th>...</th>\n",
       "      <td>...</td>\n",
       "      <td>...</td>\n",
       "      <td>...</td>\n",
       "      <td>...</td>\n",
       "      <td>...</td>\n",
       "      <td>...</td>\n",
       "      <td>...</td>\n",
       "      <td>...</td>\n",
       "      <td>...</td>\n",
       "      <td>...</td>\n",
       "      <td>...</td>\n",
       "      <td>...</td>\n",
       "      <td>...</td>\n",
       "      <td>...</td>\n",
       "      <td>...</td>\n",
       "      <td>...</td>\n",
       "      <td>...</td>\n",
       "    </tr>\n",
       "    <tr>\n",
       "      <th>150458</th>\n",
       "      <td>5YJ3E1EB0J</td>\n",
       "      <td>Spokane</td>\n",
       "      <td>Liberty Lake</td>\n",
       "      <td>WA</td>\n",
       "      <td>99019.0</td>\n",
       "      <td>2018</td>\n",
       "      <td>TESLA</td>\n",
       "      <td>MODEL 3</td>\n",
       "      <td>Battery Electric Vehicle (BEV)</td>\n",
       "      <td>Clean Alternative Fuel Vehicle Eligible</td>\n",
       "      <td>215</td>\n",
       "      <td>0</td>\n",
       "      <td>4.0</td>\n",
       "      <td>285861670</td>\n",
       "      <td>POINT (-117.0923638 47.6643385)</td>\n",
       "      <td>BONNEVILLE POWER ADMINISTRATION||AVISTA CORP||...</td>\n",
       "      <td>5.306301e+10</td>\n",
       "    </tr>\n",
       "    <tr>\n",
       "      <th>150461</th>\n",
       "      <td>5YJSA1E28G</td>\n",
       "      <td>King</td>\n",
       "      <td>Kent</td>\n",
       "      <td>WA</td>\n",
       "      <td>98030.0</td>\n",
       "      <td>2016</td>\n",
       "      <td>TESLA</td>\n",
       "      <td>MODEL S</td>\n",
       "      <td>Battery Electric Vehicle (BEV)</td>\n",
       "      <td>Clean Alternative Fuel Vehicle Eligible</td>\n",
       "      <td>210</td>\n",
       "      <td>0</td>\n",
       "      <td>47.0</td>\n",
       "      <td>229126621</td>\n",
       "      <td>POINT (-122.199755 47.37483)</td>\n",
       "      <td>PUGET SOUND ENERGY INC||CITY OF TACOMA - (WA)</td>\n",
       "      <td>5.303303e+10</td>\n",
       "    </tr>\n",
       "    <tr>\n",
       "      <th>150462</th>\n",
       "      <td>5YJ3E1ECXL</td>\n",
       "      <td>Pierce</td>\n",
       "      <td>Bonney Lake</td>\n",
       "      <td>WA</td>\n",
       "      <td>98391.0</td>\n",
       "      <td>2020</td>\n",
       "      <td>TESLA</td>\n",
       "      <td>MODEL 3</td>\n",
       "      <td>Battery Electric Vehicle (BEV)</td>\n",
       "      <td>Clean Alternative Fuel Vehicle Eligible</td>\n",
       "      <td>308</td>\n",
       "      <td>0</td>\n",
       "      <td>31.0</td>\n",
       "      <td>102879556</td>\n",
       "      <td>POINT (-122.183805 47.18062)</td>\n",
       "      <td>PUGET SOUND ENERGY INC||CITY OF TACOMA - (WA)</td>\n",
       "      <td>5.305307e+10</td>\n",
       "    </tr>\n",
       "    <tr>\n",
       "      <th>150467</th>\n",
       "      <td>5YJYGDEF1L</td>\n",
       "      <td>Snohomish</td>\n",
       "      <td>Edmonds</td>\n",
       "      <td>WA</td>\n",
       "      <td>98026.0</td>\n",
       "      <td>2020</td>\n",
       "      <td>TESLA</td>\n",
       "      <td>MODEL Y</td>\n",
       "      <td>Battery Electric Vehicle (BEV)</td>\n",
       "      <td>Clean Alternative Fuel Vehicle Eligible</td>\n",
       "      <td>291</td>\n",
       "      <td>0</td>\n",
       "      <td>32.0</td>\n",
       "      <td>132730125</td>\n",
       "      <td>POINT (-122.335685 47.80372)</td>\n",
       "      <td>PUGET SOUND ENERGY INC</td>\n",
       "      <td>5.306105e+10</td>\n",
       "    </tr>\n",
       "    <tr>\n",
       "      <th>150468</th>\n",
       "      <td>KNDJX3AE4G</td>\n",
       "      <td>Whatcom</td>\n",
       "      <td>Bellingham</td>\n",
       "      <td>WA</td>\n",
       "      <td>98225.0</td>\n",
       "      <td>2016</td>\n",
       "      <td>KIA</td>\n",
       "      <td>SOUL</td>\n",
       "      <td>Battery Electric Vehicle (BEV)</td>\n",
       "      <td>Clean Alternative Fuel Vehicle Eligible</td>\n",
       "      <td>93</td>\n",
       "      <td>31950</td>\n",
       "      <td>42.0</td>\n",
       "      <td>223923871</td>\n",
       "      <td>POINT (-122.486115 48.761615)</td>\n",
       "      <td>PUGET SOUND ENERGY INC||PUD NO 1 OF WHATCOM CO...</td>\n",
       "      <td>5.307300e+10</td>\n",
       "    </tr>\n",
       "  </tbody>\n",
       "</table>\n",
       "<p>47003 rows × 17 columns</p>\n",
       "</div>"
      ],
      "text/plain": [
       "        VIN (1-10)     County          City State  Postal Code  Model Year  \\\n",
       "0       KM8K33AGXL       King       Seattle    WA      98103.0        2020   \n",
       "3       5YJ3E1EA7J       King      Kirkland    WA      98034.0        2018   \n",
       "5       5YJ3E1EAXL  Snohomish    Marysville    WA      98271.0        2020   \n",
       "7       5YJYGDEE3L       King   Woodinville    WA      98072.0        2020   \n",
       "8       5YJ3E1EA1J     Island    Coupeville    WA      98239.0        2018   \n",
       "...            ...        ...           ...   ...          ...         ...   \n",
       "150458  5YJ3E1EB0J    Spokane  Liberty Lake    WA      99019.0        2018   \n",
       "150461  5YJSA1E28G       King          Kent    WA      98030.0        2016   \n",
       "150462  5YJ3E1ECXL     Pierce   Bonney Lake    WA      98391.0        2020   \n",
       "150467  5YJYGDEF1L  Snohomish       Edmonds    WA      98026.0        2020   \n",
       "150468  KNDJX3AE4G    Whatcom    Bellingham    WA      98225.0        2016   \n",
       "\n",
       "           Make    Model           Electric Vehicle Type  \\\n",
       "0       HYUNDAI     KONA  Battery Electric Vehicle (BEV)   \n",
       "3         TESLA  MODEL 3  Battery Electric Vehicle (BEV)   \n",
       "5         TESLA  MODEL 3  Battery Electric Vehicle (BEV)   \n",
       "7         TESLA  MODEL Y  Battery Electric Vehicle (BEV)   \n",
       "8         TESLA  MODEL 3  Battery Electric Vehicle (BEV)   \n",
       "...         ...      ...                             ...   \n",
       "150458    TESLA  MODEL 3  Battery Electric Vehicle (BEV)   \n",
       "150461    TESLA  MODEL S  Battery Electric Vehicle (BEV)   \n",
       "150462    TESLA  MODEL 3  Battery Electric Vehicle (BEV)   \n",
       "150467    TESLA  MODEL Y  Battery Electric Vehicle (BEV)   \n",
       "150468      KIA     SOUL  Battery Electric Vehicle (BEV)   \n",
       "\n",
       "       Clean Alternative Fuel Vehicle (CAFV) Eligibility  Electric Range  \\\n",
       "0                Clean Alternative Fuel Vehicle Eligible             258   \n",
       "3                Clean Alternative Fuel Vehicle Eligible             215   \n",
       "5                Clean Alternative Fuel Vehicle Eligible             266   \n",
       "7                Clean Alternative Fuel Vehicle Eligible             291   \n",
       "8                Clean Alternative Fuel Vehicle Eligible             215   \n",
       "...                                                  ...             ...   \n",
       "150458           Clean Alternative Fuel Vehicle Eligible             215   \n",
       "150461           Clean Alternative Fuel Vehicle Eligible             210   \n",
       "150462           Clean Alternative Fuel Vehicle Eligible             308   \n",
       "150467           Clean Alternative Fuel Vehicle Eligible             291   \n",
       "150468           Clean Alternative Fuel Vehicle Eligible              93   \n",
       "\n",
       "        Base MSRP  Legislative District  DOL Vehicle ID  \\\n",
       "0               0                  43.0       249675142   \n",
       "3               0                  45.0       104714466   \n",
       "5               0                  38.0       124595523   \n",
       "7               0                  45.0       124760555   \n",
       "8               0                  10.0       125048003   \n",
       "...           ...                   ...             ...   \n",
       "150458          0                   4.0       285861670   \n",
       "150461          0                  47.0       229126621   \n",
       "150462          0                  31.0       102879556   \n",
       "150467          0                  32.0       132730125   \n",
       "150468      31950                  42.0       223923871   \n",
       "\n",
       "                       Vehicle Location  \\\n",
       "0          POINT (-122.34301 47.659185)   \n",
       "3          POINT (-122.209285 47.71124)   \n",
       "5         POINT (-122.1713847 48.10433)   \n",
       "7          POINT (-122.151665 47.75855)   \n",
       "8       POINT (-122.6880708 48.2179983)   \n",
       "...                                 ...   \n",
       "150458  POINT (-117.0923638 47.6643385)   \n",
       "150461     POINT (-122.199755 47.37483)   \n",
       "150462     POINT (-122.183805 47.18062)   \n",
       "150467     POINT (-122.335685 47.80372)   \n",
       "150468    POINT (-122.486115 48.761615)   \n",
       "\n",
       "                                         Electric Utility  2020 Census Tract  \n",
       "0            CITY OF SEATTLE - (WA)|CITY OF TACOMA - (WA)       5.303300e+10  \n",
       "3           PUGET SOUND ENERGY INC||CITY OF TACOMA - (WA)       5.303302e+10  \n",
       "5                                  PUGET SOUND ENERGY INC       5.306194e+10  \n",
       "7           PUGET SOUND ENERGY INC||CITY OF TACOMA - (WA)       5.303302e+10  \n",
       "8                                  PUGET SOUND ENERGY INC       5.302997e+10  \n",
       "...                                                   ...                ...  \n",
       "150458  BONNEVILLE POWER ADMINISTRATION||AVISTA CORP||...       5.306301e+10  \n",
       "150461      PUGET SOUND ENERGY INC||CITY OF TACOMA - (WA)       5.303303e+10  \n",
       "150462      PUGET SOUND ENERGY INC||CITY OF TACOMA - (WA)       5.305307e+10  \n",
       "150467                             PUGET SOUND ENERGY INC       5.306105e+10  \n",
       "150468  PUGET SOUND ENERGY INC||PUD NO 1 OF WHATCOM CO...       5.307300e+10  \n",
       "\n",
       "[47003 rows x 17 columns]"
      ]
     },
     "execution_count": 272,
     "metadata": {},
     "output_type": "execute_result"
    }
   ],
   "source": [
    "EV_df"
   ]
  },
  {
   "cell_type": "code",
   "execution_count": 273,
   "id": "0f70046d",
   "metadata": {},
   "outputs": [
    {
     "data": {
      "text/plain": [
       "0         258\n",
       "3         215\n",
       "5         266\n",
       "7         291\n",
       "8         215\n",
       "         ... \n",
       "150458    215\n",
       "150461    210\n",
       "150462    308\n",
       "150467    291\n",
       "150468     93\n",
       "Name: Electric Range, Length: 47003, dtype: int64"
      ]
     },
     "execution_count": 273,
     "metadata": {},
     "output_type": "execute_result"
    }
   ],
   "source": [
    "EV_df['Electric Range']"
   ]
  },
  {
   "cell_type": "code",
   "execution_count": 274,
   "id": "4d1c7d43",
   "metadata": {},
   "outputs": [
    {
     "data": {
      "text/html": [
       "<div>\n",
       "<style scoped>\n",
       "    .dataframe tbody tr th:only-of-type {\n",
       "        vertical-align: middle;\n",
       "    }\n",
       "\n",
       "    .dataframe tbody tr th {\n",
       "        vertical-align: top;\n",
       "    }\n",
       "\n",
       "    .dataframe thead th {\n",
       "        text-align: right;\n",
       "    }\n",
       "</style>\n",
       "<table border=\"1\" class=\"dataframe\">\n",
       "  <thead>\n",
       "    <tr style=\"text-align: right;\">\n",
       "      <th></th>\n",
       "      <th>VIN (1-10)</th>\n",
       "      <th>County</th>\n",
       "      <th>City</th>\n",
       "      <th>State</th>\n",
       "      <th>Postal Code</th>\n",
       "      <th>Model Year</th>\n",
       "      <th>Make</th>\n",
       "      <th>Model</th>\n",
       "      <th>Electric Vehicle Type</th>\n",
       "      <th>Clean Alternative Fuel Vehicle (CAFV) Eligibility</th>\n",
       "      <th>Electric Range</th>\n",
       "      <th>Base MSRP</th>\n",
       "      <th>Legislative District</th>\n",
       "      <th>DOL Vehicle ID</th>\n",
       "      <th>Vehicle Location</th>\n",
       "      <th>Electric Utility</th>\n",
       "      <th>2020 Census Tract</th>\n",
       "    </tr>\n",
       "  </thead>\n",
       "  <tbody>\n",
       "    <tr>\n",
       "      <th>3</th>\n",
       "      <td>5YJ3E1EA7J</td>\n",
       "      <td>King</td>\n",
       "      <td>Kirkland</td>\n",
       "      <td>WA</td>\n",
       "      <td>98034.0</td>\n",
       "      <td>2018</td>\n",
       "      <td>TESLA</td>\n",
       "      <td>MODEL 3</td>\n",
       "      <td>Battery Electric Vehicle (BEV)</td>\n",
       "      <td>Clean Alternative Fuel Vehicle Eligible</td>\n",
       "      <td>215</td>\n",
       "      <td>0</td>\n",
       "      <td>45.0</td>\n",
       "      <td>104714466</td>\n",
       "      <td>POINT (-122.209285 47.71124)</td>\n",
       "      <td>PUGET SOUND ENERGY INC||CITY OF TACOMA - (WA)</td>\n",
       "      <td>5.303302e+10</td>\n",
       "    </tr>\n",
       "    <tr>\n",
       "      <th>5</th>\n",
       "      <td>5YJ3E1EAXL</td>\n",
       "      <td>Snohomish</td>\n",
       "      <td>Marysville</td>\n",
       "      <td>WA</td>\n",
       "      <td>98271.0</td>\n",
       "      <td>2020</td>\n",
       "      <td>TESLA</td>\n",
       "      <td>MODEL 3</td>\n",
       "      <td>Battery Electric Vehicle (BEV)</td>\n",
       "      <td>Clean Alternative Fuel Vehicle Eligible</td>\n",
       "      <td>266</td>\n",
       "      <td>0</td>\n",
       "      <td>38.0</td>\n",
       "      <td>124595523</td>\n",
       "      <td>POINT (-122.1713847 48.10433)</td>\n",
       "      <td>PUGET SOUND ENERGY INC</td>\n",
       "      <td>5.306194e+10</td>\n",
       "    </tr>\n",
       "    <tr>\n",
       "      <th>7</th>\n",
       "      <td>5YJYGDEE3L</td>\n",
       "      <td>King</td>\n",
       "      <td>Woodinville</td>\n",
       "      <td>WA</td>\n",
       "      <td>98072.0</td>\n",
       "      <td>2020</td>\n",
       "      <td>TESLA</td>\n",
       "      <td>MODEL Y</td>\n",
       "      <td>Battery Electric Vehicle (BEV)</td>\n",
       "      <td>Clean Alternative Fuel Vehicle Eligible</td>\n",
       "      <td>291</td>\n",
       "      <td>0</td>\n",
       "      <td>45.0</td>\n",
       "      <td>124760555</td>\n",
       "      <td>POINT (-122.151665 47.75855)</td>\n",
       "      <td>PUGET SOUND ENERGY INC||CITY OF TACOMA - (WA)</td>\n",
       "      <td>5.303302e+10</td>\n",
       "    </tr>\n",
       "    <tr>\n",
       "      <th>8</th>\n",
       "      <td>5YJ3E1EA1J</td>\n",
       "      <td>Island</td>\n",
       "      <td>Coupeville</td>\n",
       "      <td>WA</td>\n",
       "      <td>98239.0</td>\n",
       "      <td>2018</td>\n",
       "      <td>TESLA</td>\n",
       "      <td>MODEL 3</td>\n",
       "      <td>Battery Electric Vehicle (BEV)</td>\n",
       "      <td>Clean Alternative Fuel Vehicle Eligible</td>\n",
       "      <td>215</td>\n",
       "      <td>0</td>\n",
       "      <td>10.0</td>\n",
       "      <td>125048003</td>\n",
       "      <td>POINT (-122.6880708 48.2179983)</td>\n",
       "      <td>PUGET SOUND ENERGY INC</td>\n",
       "      <td>5.302997e+10</td>\n",
       "    </tr>\n",
       "    <tr>\n",
       "      <th>10</th>\n",
       "      <td>5YJ3E1EA7J</td>\n",
       "      <td>King</td>\n",
       "      <td>Kirkland</td>\n",
       "      <td>WA</td>\n",
       "      <td>98033.0</td>\n",
       "      <td>2018</td>\n",
       "      <td>TESLA</td>\n",
       "      <td>MODEL 3</td>\n",
       "      <td>Battery Electric Vehicle (BEV)</td>\n",
       "      <td>Clean Alternative Fuel Vehicle Eligible</td>\n",
       "      <td>215</td>\n",
       "      <td>0</td>\n",
       "      <td>48.0</td>\n",
       "      <td>231013436</td>\n",
       "      <td>POINT (-122.20264 47.6785)</td>\n",
       "      <td>PUGET SOUND ENERGY INC||CITY OF TACOMA - (WA)</td>\n",
       "      <td>5.303302e+10</td>\n",
       "    </tr>\n",
       "    <tr>\n",
       "      <th>...</th>\n",
       "      <td>...</td>\n",
       "      <td>...</td>\n",
       "      <td>...</td>\n",
       "      <td>...</td>\n",
       "      <td>...</td>\n",
       "      <td>...</td>\n",
       "      <td>...</td>\n",
       "      <td>...</td>\n",
       "      <td>...</td>\n",
       "      <td>...</td>\n",
       "      <td>...</td>\n",
       "      <td>...</td>\n",
       "      <td>...</td>\n",
       "      <td>...</td>\n",
       "      <td>...</td>\n",
       "      <td>...</td>\n",
       "      <td>...</td>\n",
       "    </tr>\n",
       "    <tr>\n",
       "      <th>150445</th>\n",
       "      <td>5YJSA1DP1D</td>\n",
       "      <td>Snohomish</td>\n",
       "      <td>Woodinville</td>\n",
       "      <td>WA</td>\n",
       "      <td>98072.0</td>\n",
       "      <td>2013</td>\n",
       "      <td>TESLA</td>\n",
       "      <td>MODEL S</td>\n",
       "      <td>Battery Electric Vehicle (BEV)</td>\n",
       "      <td>Clean Alternative Fuel Vehicle Eligible</td>\n",
       "      <td>208</td>\n",
       "      <td>69900</td>\n",
       "      <td>1.0</td>\n",
       "      <td>119751481</td>\n",
       "      <td>POINT (-122.151665 47.75855)</td>\n",
       "      <td>PUGET SOUND ENERGY INC</td>\n",
       "      <td>5.306105e+10</td>\n",
       "    </tr>\n",
       "    <tr>\n",
       "      <th>150458</th>\n",
       "      <td>5YJ3E1EB0J</td>\n",
       "      <td>Spokane</td>\n",
       "      <td>Liberty Lake</td>\n",
       "      <td>WA</td>\n",
       "      <td>99019.0</td>\n",
       "      <td>2018</td>\n",
       "      <td>TESLA</td>\n",
       "      <td>MODEL 3</td>\n",
       "      <td>Battery Electric Vehicle (BEV)</td>\n",
       "      <td>Clean Alternative Fuel Vehicle Eligible</td>\n",
       "      <td>215</td>\n",
       "      <td>0</td>\n",
       "      <td>4.0</td>\n",
       "      <td>285861670</td>\n",
       "      <td>POINT (-117.0923638 47.6643385)</td>\n",
       "      <td>BONNEVILLE POWER ADMINISTRATION||AVISTA CORP||...</td>\n",
       "      <td>5.306301e+10</td>\n",
       "    </tr>\n",
       "    <tr>\n",
       "      <th>150461</th>\n",
       "      <td>5YJSA1E28G</td>\n",
       "      <td>King</td>\n",
       "      <td>Kent</td>\n",
       "      <td>WA</td>\n",
       "      <td>98030.0</td>\n",
       "      <td>2016</td>\n",
       "      <td>TESLA</td>\n",
       "      <td>MODEL S</td>\n",
       "      <td>Battery Electric Vehicle (BEV)</td>\n",
       "      <td>Clean Alternative Fuel Vehicle Eligible</td>\n",
       "      <td>210</td>\n",
       "      <td>0</td>\n",
       "      <td>47.0</td>\n",
       "      <td>229126621</td>\n",
       "      <td>POINT (-122.199755 47.37483)</td>\n",
       "      <td>PUGET SOUND ENERGY INC||CITY OF TACOMA - (WA)</td>\n",
       "      <td>5.303303e+10</td>\n",
       "    </tr>\n",
       "    <tr>\n",
       "      <th>150462</th>\n",
       "      <td>5YJ3E1ECXL</td>\n",
       "      <td>Pierce</td>\n",
       "      <td>Bonney Lake</td>\n",
       "      <td>WA</td>\n",
       "      <td>98391.0</td>\n",
       "      <td>2020</td>\n",
       "      <td>TESLA</td>\n",
       "      <td>MODEL 3</td>\n",
       "      <td>Battery Electric Vehicle (BEV)</td>\n",
       "      <td>Clean Alternative Fuel Vehicle Eligible</td>\n",
       "      <td>308</td>\n",
       "      <td>0</td>\n",
       "      <td>31.0</td>\n",
       "      <td>102879556</td>\n",
       "      <td>POINT (-122.183805 47.18062)</td>\n",
       "      <td>PUGET SOUND ENERGY INC||CITY OF TACOMA - (WA)</td>\n",
       "      <td>5.305307e+10</td>\n",
       "    </tr>\n",
       "    <tr>\n",
       "      <th>150467</th>\n",
       "      <td>5YJYGDEF1L</td>\n",
       "      <td>Snohomish</td>\n",
       "      <td>Edmonds</td>\n",
       "      <td>WA</td>\n",
       "      <td>98026.0</td>\n",
       "      <td>2020</td>\n",
       "      <td>TESLA</td>\n",
       "      <td>MODEL Y</td>\n",
       "      <td>Battery Electric Vehicle (BEV)</td>\n",
       "      <td>Clean Alternative Fuel Vehicle Eligible</td>\n",
       "      <td>291</td>\n",
       "      <td>0</td>\n",
       "      <td>32.0</td>\n",
       "      <td>132730125</td>\n",
       "      <td>POINT (-122.335685 47.80372)</td>\n",
       "      <td>PUGET SOUND ENERGY INC</td>\n",
       "      <td>5.306105e+10</td>\n",
       "    </tr>\n",
       "  </tbody>\n",
       "</table>\n",
       "<p>25819 rows × 17 columns</p>\n",
       "</div>"
      ],
      "text/plain": [
       "        VIN (1-10)     County          City State  Postal Code  Model Year  \\\n",
       "3       5YJ3E1EA7J       King      Kirkland    WA      98034.0        2018   \n",
       "5       5YJ3E1EAXL  Snohomish    Marysville    WA      98271.0        2020   \n",
       "7       5YJYGDEE3L       King   Woodinville    WA      98072.0        2020   \n",
       "8       5YJ3E1EA1J     Island    Coupeville    WA      98239.0        2018   \n",
       "10      5YJ3E1EA7J       King      Kirkland    WA      98033.0        2018   \n",
       "...            ...        ...           ...   ...          ...         ...   \n",
       "150445  5YJSA1DP1D  Snohomish   Woodinville    WA      98072.0        2013   \n",
       "150458  5YJ3E1EB0J    Spokane  Liberty Lake    WA      99019.0        2018   \n",
       "150461  5YJSA1E28G       King          Kent    WA      98030.0        2016   \n",
       "150462  5YJ3E1ECXL     Pierce   Bonney Lake    WA      98391.0        2020   \n",
       "150467  5YJYGDEF1L  Snohomish       Edmonds    WA      98026.0        2020   \n",
       "\n",
       "         Make    Model           Electric Vehicle Type  \\\n",
       "3       TESLA  MODEL 3  Battery Electric Vehicle (BEV)   \n",
       "5       TESLA  MODEL 3  Battery Electric Vehicle (BEV)   \n",
       "7       TESLA  MODEL Y  Battery Electric Vehicle (BEV)   \n",
       "8       TESLA  MODEL 3  Battery Electric Vehicle (BEV)   \n",
       "10      TESLA  MODEL 3  Battery Electric Vehicle (BEV)   \n",
       "...       ...      ...                             ...   \n",
       "150445  TESLA  MODEL S  Battery Electric Vehicle (BEV)   \n",
       "150458  TESLA  MODEL 3  Battery Electric Vehicle (BEV)   \n",
       "150461  TESLA  MODEL S  Battery Electric Vehicle (BEV)   \n",
       "150462  TESLA  MODEL 3  Battery Electric Vehicle (BEV)   \n",
       "150467  TESLA  MODEL Y  Battery Electric Vehicle (BEV)   \n",
       "\n",
       "       Clean Alternative Fuel Vehicle (CAFV) Eligibility  Electric Range  \\\n",
       "3                Clean Alternative Fuel Vehicle Eligible             215   \n",
       "5                Clean Alternative Fuel Vehicle Eligible             266   \n",
       "7                Clean Alternative Fuel Vehicle Eligible             291   \n",
       "8                Clean Alternative Fuel Vehicle Eligible             215   \n",
       "10               Clean Alternative Fuel Vehicle Eligible             215   \n",
       "...                                                  ...             ...   \n",
       "150445           Clean Alternative Fuel Vehicle Eligible             208   \n",
       "150458           Clean Alternative Fuel Vehicle Eligible             215   \n",
       "150461           Clean Alternative Fuel Vehicle Eligible             210   \n",
       "150462           Clean Alternative Fuel Vehicle Eligible             308   \n",
       "150467           Clean Alternative Fuel Vehicle Eligible             291   \n",
       "\n",
       "        Base MSRP  Legislative District  DOL Vehicle ID  \\\n",
       "3               0                  45.0       104714466   \n",
       "5               0                  38.0       124595523   \n",
       "7               0                  45.0       124760555   \n",
       "8               0                  10.0       125048003   \n",
       "10              0                  48.0       231013436   \n",
       "...           ...                   ...             ...   \n",
       "150445      69900                   1.0       119751481   \n",
       "150458          0                   4.0       285861670   \n",
       "150461          0                  47.0       229126621   \n",
       "150462          0                  31.0       102879556   \n",
       "150467          0                  32.0       132730125   \n",
       "\n",
       "                       Vehicle Location  \\\n",
       "3          POINT (-122.209285 47.71124)   \n",
       "5         POINT (-122.1713847 48.10433)   \n",
       "7          POINT (-122.151665 47.75855)   \n",
       "8       POINT (-122.6880708 48.2179983)   \n",
       "10           POINT (-122.20264 47.6785)   \n",
       "...                                 ...   \n",
       "150445     POINT (-122.151665 47.75855)   \n",
       "150458  POINT (-117.0923638 47.6643385)   \n",
       "150461     POINT (-122.199755 47.37483)   \n",
       "150462     POINT (-122.183805 47.18062)   \n",
       "150467     POINT (-122.335685 47.80372)   \n",
       "\n",
       "                                         Electric Utility  2020 Census Tract  \n",
       "3           PUGET SOUND ENERGY INC||CITY OF TACOMA - (WA)       5.303302e+10  \n",
       "5                                  PUGET SOUND ENERGY INC       5.306194e+10  \n",
       "7           PUGET SOUND ENERGY INC||CITY OF TACOMA - (WA)       5.303302e+10  \n",
       "8                                  PUGET SOUND ENERGY INC       5.302997e+10  \n",
       "10          PUGET SOUND ENERGY INC||CITY OF TACOMA - (WA)       5.303302e+10  \n",
       "...                                                   ...                ...  \n",
       "150445                             PUGET SOUND ENERGY INC       5.306105e+10  \n",
       "150458  BONNEVILLE POWER ADMINISTRATION||AVISTA CORP||...       5.306301e+10  \n",
       "150461      PUGET SOUND ENERGY INC||CITY OF TACOMA - (WA)       5.303303e+10  \n",
       "150462      PUGET SOUND ENERGY INC||CITY OF TACOMA - (WA)       5.305307e+10  \n",
       "150467                             PUGET SOUND ENERGY INC       5.306105e+10  \n",
       "\n",
       "[25819 rows x 17 columns]"
      ]
     },
     "execution_count": 274,
     "metadata": {},
     "output_type": "execute_result"
    }
   ],
   "source": [
    "EV_Tesla"
   ]
  },
  {
   "cell_type": "markdown",
   "id": "c95cc77e",
   "metadata": {},
   "source": [
    "__Average Electric Range for Top 5 cars__"
   ]
  },
  {
   "cell_type": "code",
   "execution_count": 275,
   "id": "1e44c507",
   "metadata": {
    "scrolled": true
   },
   "outputs": [
    {
     "data": {
      "text/plain": [
       "240.5283318486386"
      ]
     },
     "execution_count": 275,
     "metadata": {},
     "output_type": "execute_result"
    }
   ],
   "source": [
    "EV_Tesla['Electric Range'].mean()"
   ]
  },
  {
   "cell_type": "code",
   "execution_count": 276,
   "id": "8eb42f84",
   "metadata": {},
   "outputs": [
    {
     "data": {
      "text/plain": [
       "103.94294294294295"
      ]
     },
     "execution_count": 276,
     "metadata": {},
     "output_type": "execute_result"
    }
   ],
   "source": [
    "EV_Nissan['Electric Range'].mean()"
   ]
  },
  {
   "cell_type": "code",
   "execution_count": 277,
   "id": "6f13ddd8",
   "metadata": {},
   "outputs": [
    {
     "data": {
      "text/plain": [
       "233.39241466498103"
      ]
     },
     "execution_count": 277,
     "metadata": {},
     "output_type": "execute_result"
    }
   ],
   "source": [
    "EV_Chevrolet['Electric Range'].mean()"
   ]
  },
  {
   "cell_type": "code",
   "execution_count": 278,
   "id": "8b92b3ed",
   "metadata": {},
   "outputs": [
    {
     "data": {
      "text/plain": [
       "176.81781647689218"
      ]
     },
     "execution_count": 278,
     "metadata": {},
     "output_type": "execute_result"
    }
   ],
   "source": [
    "EV_Kia['Electric Range'].mean()"
   ]
  },
  {
   "cell_type": "code",
   "execution_count": 279,
   "id": "494f3f50",
   "metadata": {},
   "outputs": [
    {
     "data": {
      "text/plain": [
       "107.38583410997204"
      ]
     },
     "execution_count": 279,
     "metadata": {},
     "output_type": "execute_result"
    }
   ],
   "source": [
    "EV_Volkswagen['Electric Range'].mean()"
   ]
  },
  {
   "cell_type": "code",
   "execution_count": 280,
   "id": "fe85c940",
   "metadata": {},
   "outputs": [
    {
     "data": {
      "text/plain": [
       "337"
      ]
     },
     "execution_count": 280,
     "metadata": {},
     "output_type": "execute_result"
    }
   ],
   "source": [
    "#Best Range (Model S Tesla)\n",
    "EV_df['Electric Range'].max()"
   ]
  },
  {
   "cell_type": "markdown",
   "id": "8f9eb6ca",
   "metadata": {},
   "source": [
    "## Linear Programming: Predictive and Prescriptive Analytics"
   ]
  },
  {
   "cell_type": "markdown",
   "id": "36623bae",
   "metadata": {},
   "source": [
    "### Linear Regression (YOY Growth of EV cars)"
   ]
  },
  {
   "cell_type": "code",
   "execution_count": 281,
   "id": "e54683cd",
   "metadata": {},
   "outputs": [],
   "source": [
    "#Examining the DF Year Counts to Clean Data and Select which Years to work with\n",
    "DFYearCounts=EV_df['Model Year'].value_counts().sort_index()"
   ]
  },
  {
   "cell_type": "code",
   "execution_count": 282,
   "id": "fc602b50",
   "metadata": {},
   "outputs": [],
   "source": [
    "#Selecting Years between 2008 and 2020 to analyze the last decade of data\n",
    "ModelYearDF = EV_df[(EV_df['Model Year'] >= 2008) & (EV_df['Model Year'] <= 2020)]"
   ]
  },
  {
   "cell_type": "code",
   "execution_count": 283,
   "id": "c3bb9dd5",
   "metadata": {},
   "outputs": [
    {
     "data": {
      "text/plain": [
       "2008       18\n",
       "2010       21\n",
       "2011      717\n",
       "2012      776\n",
       "2013     2922\n",
       "2014     1792\n",
       "2015     3617\n",
       "2016     3855\n",
       "2017     4455\n",
       "2018    10023\n",
       "2019     8752\n",
       "2020     9536\n",
       "Name: Model Year, dtype: int64"
      ]
     },
     "execution_count": 283,
     "metadata": {},
     "output_type": "execute_result"
    }
   ],
   "source": [
    "Year_Counts = ModelYearDF['Model Year'].value_counts().sort_index()\n",
    "Year_Counts"
   ]
  },
  {
   "cell_type": "code",
   "execution_count": 284,
   "id": "0d7ed70b",
   "metadata": {},
   "outputs": [
    {
     "data": {
      "text/html": [
       "<div>\n",
       "<style scoped>\n",
       "    .dataframe tbody tr th:only-of-type {\n",
       "        vertical-align: middle;\n",
       "    }\n",
       "\n",
       "    .dataframe tbody tr th {\n",
       "        vertical-align: top;\n",
       "    }\n",
       "\n",
       "    .dataframe thead th {\n",
       "        text-align: right;\n",
       "    }\n",
       "</style>\n",
       "<table border=\"1\" class=\"dataframe\">\n",
       "  <thead>\n",
       "    <tr style=\"text-align: right;\">\n",
       "      <th></th>\n",
       "      <th>Year</th>\n",
       "      <th>Count</th>\n",
       "    </tr>\n",
       "  </thead>\n",
       "  <tbody>\n",
       "    <tr>\n",
       "      <th>0</th>\n",
       "      <td>2008</td>\n",
       "      <td>18</td>\n",
       "    </tr>\n",
       "    <tr>\n",
       "      <th>1</th>\n",
       "      <td>2010</td>\n",
       "      <td>21</td>\n",
       "    </tr>\n",
       "    <tr>\n",
       "      <th>2</th>\n",
       "      <td>2011</td>\n",
       "      <td>717</td>\n",
       "    </tr>\n",
       "    <tr>\n",
       "      <th>3</th>\n",
       "      <td>2012</td>\n",
       "      <td>776</td>\n",
       "    </tr>\n",
       "    <tr>\n",
       "      <th>4</th>\n",
       "      <td>2013</td>\n",
       "      <td>2922</td>\n",
       "    </tr>\n",
       "    <tr>\n",
       "      <th>5</th>\n",
       "      <td>2014</td>\n",
       "      <td>1792</td>\n",
       "    </tr>\n",
       "    <tr>\n",
       "      <th>6</th>\n",
       "      <td>2015</td>\n",
       "      <td>3617</td>\n",
       "    </tr>\n",
       "    <tr>\n",
       "      <th>7</th>\n",
       "      <td>2016</td>\n",
       "      <td>3855</td>\n",
       "    </tr>\n",
       "    <tr>\n",
       "      <th>8</th>\n",
       "      <td>2017</td>\n",
       "      <td>4455</td>\n",
       "    </tr>\n",
       "    <tr>\n",
       "      <th>9</th>\n",
       "      <td>2018</td>\n",
       "      <td>10023</td>\n",
       "    </tr>\n",
       "    <tr>\n",
       "      <th>10</th>\n",
       "      <td>2019</td>\n",
       "      <td>8752</td>\n",
       "    </tr>\n",
       "    <tr>\n",
       "      <th>11</th>\n",
       "      <td>2020</td>\n",
       "      <td>9536</td>\n",
       "    </tr>\n",
       "  </tbody>\n",
       "</table>\n",
       "</div>"
      ],
      "text/plain": [
       "    Year  Count\n",
       "0   2008     18\n",
       "1   2010     21\n",
       "2   2011    717\n",
       "3   2012    776\n",
       "4   2013   2922\n",
       "5   2014   1792\n",
       "6   2015   3617\n",
       "7   2016   3855\n",
       "8   2017   4455\n",
       "9   2018  10023\n",
       "10  2019   8752\n",
       "11  2020   9536"
      ]
     },
     "execution_count": 284,
     "metadata": {},
     "output_type": "execute_result"
    }
   ],
   "source": [
    "#Creating a New Data Frame with Year and Count to Run Regresssion Analysis (Seperating X and Y values)\n",
    "Years = Year_Counts.index\n",
    "Values = Year_Counts.values\n",
    "LinRegDF = pd.DataFrame({'Year': Years, 'Count': Values})\n",
    "LinRegDF"
   ]
  },
  {
   "cell_type": "code",
   "execution_count": 285,
   "id": "b13c7c97",
   "metadata": {},
   "outputs": [
    {
     "data": {
      "text/html": [
       "<div>\n",
       "<style scoped>\n",
       "    .dataframe tbody tr th:only-of-type {\n",
       "        vertical-align: middle;\n",
       "    }\n",
       "\n",
       "    .dataframe tbody tr th {\n",
       "        vertical-align: top;\n",
       "    }\n",
       "\n",
       "    .dataframe thead th {\n",
       "        text-align: right;\n",
       "    }\n",
       "</style>\n",
       "<table border=\"1\" class=\"dataframe\">\n",
       "  <thead>\n",
       "    <tr style=\"text-align: right;\">\n",
       "      <th></th>\n",
       "      <th>const</th>\n",
       "      <th>Year</th>\n",
       "    </tr>\n",
       "  </thead>\n",
       "  <tbody>\n",
       "    <tr>\n",
       "      <th>0</th>\n",
       "      <td>1.0</td>\n",
       "      <td>2008</td>\n",
       "    </tr>\n",
       "    <tr>\n",
       "      <th>1</th>\n",
       "      <td>1.0</td>\n",
       "      <td>2010</td>\n",
       "    </tr>\n",
       "    <tr>\n",
       "      <th>2</th>\n",
       "      <td>1.0</td>\n",
       "      <td>2011</td>\n",
       "    </tr>\n",
       "    <tr>\n",
       "      <th>3</th>\n",
       "      <td>1.0</td>\n",
       "      <td>2012</td>\n",
       "    </tr>\n",
       "    <tr>\n",
       "      <th>4</th>\n",
       "      <td>1.0</td>\n",
       "      <td>2013</td>\n",
       "    </tr>\n",
       "  </tbody>\n",
       "</table>\n",
       "</div>"
      ],
      "text/plain": [
       "   const  Year\n",
       "0    1.0  2008\n",
       "1    1.0  2010\n",
       "2    1.0  2011\n",
       "3    1.0  2012\n",
       "4    1.0  2013"
      ]
     },
     "execution_count": 285,
     "metadata": {},
     "output_type": "execute_result"
    }
   ],
   "source": [
    "#Seperating the X = Independent Variable, Year (with a Constant)\n",
    "import statsmodels.api as sm\n",
    "X = sm.add_constant(LinRegDF['Year'] )\n",
    "X.head(5)"
   ]
  },
  {
   "cell_type": "code",
   "execution_count": 286,
   "id": "7c373c92",
   "metadata": {},
   "outputs": [],
   "source": [
    "#Seperating the Y = Dependent Variable, Count\n",
    "Y = LinRegDF['Count']"
   ]
  },
  {
   "cell_type": "code",
   "execution_count": 287,
   "id": "19d13dc3",
   "metadata": {},
   "outputs": [],
   "source": [
    "from sklearn.model_selection import train_test_split\n",
    "# Splitting the dataset into Train and Test."
   ]
  },
  {
   "cell_type": "code",
   "execution_count": 288,
   "id": "9b63113d",
   "metadata": {},
   "outputs": [],
   "source": [
    "train_X, test_X, train_y, test_y = train_test_split( X ,Y,train_size = 0.8,random_state = 100 )\n",
    "# 80:20 - Train:Test (Traditionally 80% of data is used to train and 20% test)"
   ]
  },
  {
   "cell_type": "code",
   "execution_count": 289,
   "id": "ab65035c",
   "metadata": {},
   "outputs": [],
   "source": [
    "LinRegDF_lm = sm.OLS( train_y, train_X ).fit()\n",
    "# Model Fit"
   ]
  },
  {
   "cell_type": "code",
   "execution_count": 290,
   "id": "6942ec6d",
   "metadata": {},
   "outputs": [
    {
     "name": "stdout",
     "output_type": "stream",
     "text": [
      "const   -1.656567e+06\n",
      "Year     8.241545e+02\n",
      "dtype: float64\n"
     ]
    }
   ],
   "source": [
    "print(LinRegDF_lm.params )\n",
    "# Estimated Parameter Results"
   ]
  },
  {
   "cell_type": "code",
   "execution_count": 291,
   "id": "dddc6bf3",
   "metadata": {},
   "outputs": [
    {
     "data": {
      "text/html": [
       "<table class=\"simpletable\">\n",
       "<tr>\n",
       "        <td>Model:</td>               <td>OLS</td>         <td>Adj. R-squared:</td>      <td>0.852</td>  \n",
       "</tr>\n",
       "<tr>\n",
       "  <td>Dependent Variable:</td>       <td>Count</td>             <td>AIC:</td>          <td>156.7533</td> \n",
       "</tr>\n",
       "<tr>\n",
       "         <td>Date:</td>        <td>2023-10-05 11:07</td>        <td>BIC:</td>          <td>157.1477</td> \n",
       "</tr>\n",
       "<tr>\n",
       "   <td>No. Observations:</td>          <td>9</td>          <td>Log-Likelihood:</td>     <td>-76.377</td> \n",
       "</tr>\n",
       "<tr>\n",
       "       <td>Df Model:</td>              <td>1</td>           <td>F-statistic:</td>        <td>46.92</td>  \n",
       "</tr>\n",
       "<tr>\n",
       "     <td>Df Residuals:</td>            <td>7</td>        <td>Prob (F-statistic):</td>  <td>0.000242</td> \n",
       "</tr>\n",
       "<tr>\n",
       "      <td>R-squared:</td>            <td>0.870</td>            <td>Scale:</td>        <td>1.7692e+06</td>\n",
       "</tr>\n",
       "</table>\n",
       "<table class=\"simpletable\">\n",
       "<tr>\n",
       "    <td></td>        <th>Coef.</th>      <th>Std.Err.</th>      <th>t</th>     <th>P>|t|</th>    <th>[0.025</th>        <th>0.975]</th>    \n",
       "</tr>\n",
       "<tr>\n",
       "  <th>const</th> <td>-1656566.5455</td> <td>242362.9437</td> <td>-6.8351</td> <td>0.0002</td> <td>-2229663.8398</td> <td>-1083469.2511</td>\n",
       "</tr>\n",
       "<tr>\n",
       "  <th>Year</th>    <td>824.1545</td>     <td>120.3123</td>   <td>6.8501</td>  <td>0.0002</td>   <td>539.6611</td>      <td>1108.6480</td>  \n",
       "</tr>\n",
       "</table>\n",
       "<table class=\"simpletable\">\n",
       "<tr>\n",
       "     <td>Omnibus:</td>    <td>3.310</td>  <td>Durbin-Watson:</td>    <td>2.003</td> \n",
       "</tr>\n",
       "<tr>\n",
       "  <td>Prob(Omnibus):</td> <td>0.191</td> <td>Jarque-Bera (JB):</td>  <td>0.988</td> \n",
       "</tr>\n",
       "<tr>\n",
       "       <td>Skew:</td>     <td>0.153</td>     <td>Prob(JB):</td>      <td>0.610</td> \n",
       "</tr>\n",
       "<tr>\n",
       "     <td>Kurtosis:</td>   <td>1.405</td>  <td>Condition No.:</td>   <td>1101180</td>\n",
       "</tr>\n",
       "</table><br/>\n",
       "Notes:<br/>\n",
       "[1] Standard Errors assume that the covariance matrix of the errors is correctly specified.<br/>\n",
       "[2] The condition number is large, 1.1e+06. This might indicate                that there are strong multicollinearity or other numerical                problems."
      ],
      "text/latex": [
       "\\begin{table}\n",
       "\\caption{Results: Ordinary least squares}\n",
       "\\label{}\n",
       "\\begin{center}\n",
       "\\begin{tabular}{llll}\n",
       "\\hline\n",
       "Model:              & OLS              & Adj. R-squared:     & 0.852       \\\\\n",
       "Dependent Variable: & Count            & AIC:                & 156.7533    \\\\\n",
       "Date:               & 2023-10-05 11:07 & BIC:                & 157.1477    \\\\\n",
       "No. Observations:   & 9                & Log-Likelihood:     & -76.377     \\\\\n",
       "Df Model:           & 1                & F-statistic:        & 46.92       \\\\\n",
       "Df Residuals:       & 7                & Prob (F-statistic): & 0.000242    \\\\\n",
       "R-squared:          & 0.870            & Scale:              & 1.7692e+06  \\\\\n",
       "\\hline\n",
       "\\end{tabular}\n",
       "\\end{center}\n",
       "\n",
       "\\begin{center}\n",
       "\\begin{tabular}{lrrrrrr}\n",
       "\\hline\n",
       "      &         Coef. &    Std.Err. &       t & P$> |$t$|$ &        [0.025 &        0.975]  \\\\\n",
       "\\hline\n",
       "const & -1656566.5455 & 242362.9437 & -6.8351 &      0.0002 & -2229663.8398 & -1083469.2511  \\\\\n",
       "Year  &      824.1545 &    120.3123 &  6.8501 &      0.0002 &      539.6611 &     1108.6480  \\\\\n",
       "\\hline\n",
       "\\end{tabular}\n",
       "\\end{center}\n",
       "\n",
       "\\begin{center}\n",
       "\\begin{tabular}{llll}\n",
       "\\hline\n",
       "Omnibus:       & 3.310 & Durbin-Watson:    & 2.003    \\\\\n",
       "Prob(Omnibus): & 0.191 & Jarque-Bera (JB): & 0.988    \\\\\n",
       "Skew:          & 0.153 & Prob(JB):         & 0.610    \\\\\n",
       "Kurtosis:      & 1.405 & Condition No.:    & 1101180  \\\\\n",
       "\\hline\n",
       "\\end{tabular}\n",
       "\\end{center}\n",
       "\\end{table}\n",
       "\\bigskip\n",
       "Notes: \\newline \n",
       "[1] Standard Errors assume that the covariance matrix of the errors is correctly specified. \\newline \n",
       "[2] The condition number is large, 1.1e+06. This might indicate                that there are strong multicollinearity or other numerical                problems."
      ],
      "text/plain": [
       "<class 'statsmodels.iolib.summary2.Summary'>\n",
       "\"\"\"\n",
       "                     Results: Ordinary least squares\n",
       "==========================================================================\n",
       "Model:                 OLS                Adj. R-squared:       0.852     \n",
       "Dependent Variable:    Count              AIC:                  156.7533  \n",
       "Date:                  2023-10-05 11:07   BIC:                  157.1477  \n",
       "No. Observations:      9                  Log-Likelihood:       -76.377   \n",
       "Df Model:              1                  F-statistic:          46.92     \n",
       "Df Residuals:          7                  Prob (F-statistic):   0.000242  \n",
       "R-squared:             0.870              Scale:                1.7692e+06\n",
       "--------------------------------------------------------------------------\n",
       "          Coef.       Std.Err.     t    P>|t|      [0.025        0.975]   \n",
       "--------------------------------------------------------------------------\n",
       "const -1656566.5455 242362.9437 -6.8351 0.0002 -2229663.8398 -1083469.2511\n",
       "Year       824.1545    120.3123  6.8501 0.0002      539.6611     1108.6480\n",
       "--------------------------------------------------------------------------\n",
       "Omnibus:                 3.310          Durbin-Watson:             2.003  \n",
       "Prob(Omnibus):           0.191          Jarque-Bera (JB):          0.988  \n",
       "Skew:                    0.153          Prob(JB):                  0.610  \n",
       "Kurtosis:                1.405          Condition No.:             1101180\n",
       "==========================================================================\n",
       "Notes:\n",
       "[1] Standard Errors assume that the covariance matrix of the errors is\n",
       "correctly specified.\n",
       "[2] The condition number is large, 1.1e+06. This might indicate\n",
       "that there are strong multicollinearity or other numerical\n",
       "problems.\n",
       "\"\"\""
      ]
     },
     "execution_count": 291,
     "metadata": {},
     "output_type": "execute_result"
    }
   ],
   "source": [
    "#Importing warnings and filtering to ignore to present LinRegDF Summary\n",
    "import warnings\n",
    "warnings.filterwarnings('ignore')\n",
    "\n",
    "#LinRegDF Summary to see relational statistics on the dataset\n",
    "LinRegDF_lm.summary2()"
   ]
  },
  {
   "cell_type": "code",
   "execution_count": 292,
   "id": "46a5c95a",
   "metadata": {},
   "outputs": [],
   "source": [
    "# Importing packages to use when running analyses\n",
    "import matplotlib.pyplot as plt\n",
    "import seaborn as sn\n",
    "%matplotlib inline"
   ]
  },
  {
   "cell_type": "markdown",
   "id": "1cc4671d",
   "metadata": {},
   "source": [
    "__Residual Analysis to Plot Normal P-P Plot of Regression Standardized Residuals__\n",
    "* This plot is useful because it helps assess whether the residuals follow a Normal Distribution, which is a key asssumption for Linear Regression. It the points on the P-Plot form a diagonal line, it indicates that the assumption of normality in the residuals is achieved (Hence we can run linear regressions). If not, then we need to consider additional tools for modelling or transformations."
   ]
  },
  {
   "cell_type": "code",
   "execution_count": 293,
   "id": "521fb292",
   "metadata": {},
   "outputs": [
    {
     "data": {
      "text/plain": [
       "<Figure size 800x600 with 0 Axes>"
      ]
     },
     "metadata": {},
     "output_type": "display_data"
    },
    {
     "data": {
      "image/png": "[encoded data removed]",
      "text/plain": [
       "<Figure size 640x480 with 1 Axes>"
      ]
     },
     "metadata": {},
     "output_type": "display_data"
    }
   ],
   "source": [
    "LinRegDF_resid = LinRegDF_lm.resid\n",
    "probplot = sm.ProbPlot(LinRegDF_resid)\n",
    "plt.figure( figsize = (8, 6) )\n",
    "probplot.ppplot( line='45' )\n",
    "plt.title( \"Fig 1 - Normal P-P Plot of Regression Standardized Residuals\" )\n",
    "plt.show()"
   ]
  },
  {
   "cell_type": "markdown",
   "id": "29e90a20",
   "metadata": {},
   "source": [
    "__Visualizing Linear Regression against the Training and Testing data__"
   ]
  },
  {
   "cell_type": "code",
   "execution_count": 294,
   "id": "f37fcae8",
   "metadata": {},
   "outputs": [],
   "source": [
    "LinRegDF\n",
    "X = LinRegDF.iloc[:, :-1].values\n",
    "Y = LinRegDF.iloc[:, 1].values"
   ]
  },
  {
   "cell_type": "code",
   "execution_count": 295,
   "id": "6dbc99de",
   "metadata": {},
   "outputs": [
    {
     "data": {
      "text/html": [
       "<style>#sk-container-id-3 {color: black;}#sk-container-id-3 pre{padding: 0;}#sk-container-id-3 div.sk-toggleable {background-color: white;}#sk-container-id-3 label.sk-toggleable__label {cursor: pointer;display: block;width: 100%;margin-bottom: 0;padding: 0.3em;box-sizing: border-box;text-align: center;}#sk-container-id-3 label.sk-toggleable__label-arrow:before {content: \"▸\";float: left;margin-right: 0.25em;color: #696969;}#sk-container-id-3 label.sk-toggleable__label-arrow:hover:before {color: black;}#sk-container-id-3 div.sk-estimator:hover label.sk-toggleable__label-arrow:before {color: black;}#sk-container-id-3 div.sk-toggleable__content {max-height: 0;max-width: 0;overflow: hidden;text-align: left;background-color: #f0f8ff;}#sk-container-id-3 div.sk-toggleable__content pre {margin: 0.2em;color: black;border-radius: 0.25em;background-color: #f0f8ff;}#sk-container-id-3 input.sk-toggleable__control:checked~div.sk-toggleable__content {max-height: 200px;max-width: 100%;overflow: auto;}#sk-container-id-3 input.sk-toggleable__control:checked~label.sk-toggleable__label-arrow:before {content: \"▾\";}#sk-container-id-3 div.sk-estimator input.sk-toggleable__control:checked~label.sk-toggleable__label {background-color: #d4ebff;}#sk-container-id-3 div.sk-label input.sk-toggleable__control:checked~label.sk-toggleable__label {background-color: #d4ebff;}#sk-container-id-3 input.sk-hidden--visually {border: 0;clip: rect(1px 1px 1px 1px);clip: rect(1px, 1px, 1px, 1px);height: 1px;margin: -1px;overflow: hidden;padding: 0;position: absolute;width: 1px;}#sk-container-id-3 div.sk-estimator {font-family: monospace;background-color: #f0f8ff;border: 1px dotted black;border-radius: 0.25em;box-sizing: border-box;margin-bottom: 0.5em;}#sk-container-id-3 div.sk-estimator:hover {background-color: #d4ebff;}#sk-container-id-3 div.sk-parallel-item::after {content: \"\";width: 100%;border-bottom: 1px solid gray;flex-grow: 1;}#sk-container-id-3 div.sk-label:hover label.sk-toggleable__label {background-color: #d4ebff;}#sk-container-id-3 div.sk-serial::before {content: \"\";position: absolute;border-left: 1px solid gray;box-sizing: border-box;top: 0;bottom: 0;left: 50%;z-index: 0;}#sk-container-id-3 div.sk-serial {display: flex;flex-direction: column;align-items: center;background-color: white;padding-right: 0.2em;padding-left: 0.2em;position: relative;}#sk-container-id-3 div.sk-item {position: relative;z-index: 1;}#sk-container-id-3 div.sk-parallel {display: flex;align-items: stretch;justify-content: center;background-color: white;position: relative;}#sk-container-id-3 div.sk-item::before, #sk-container-id-3 div.sk-parallel-item::before {content: \"\";position: absolute;border-left: 1px solid gray;box-sizing: border-box;top: 0;bottom: 0;left: 50%;z-index: -1;}#sk-container-id-3 div.sk-parallel-item {display: flex;flex-direction: column;z-index: 1;position: relative;background-color: white;}#sk-container-id-3 div.sk-parallel-item:first-child::after {align-self: flex-end;width: 50%;}#sk-container-id-3 div.sk-parallel-item:last-child::after {align-self: flex-start;width: 50%;}#sk-container-id-3 div.sk-parallel-item:only-child::after {width: 0;}#sk-container-id-3 div.sk-dashed-wrapped {border: 1px dashed gray;margin: 0 0.4em 0.5em 0.4em;box-sizing: border-box;padding-bottom: 0.4em;background-color: white;}#sk-container-id-3 div.sk-label label {font-family: monospace;font-weight: bold;display: inline-block;line-height: 1.2em;}#sk-container-id-3 div.sk-label-container {text-align: center;}#sk-container-id-3 div.sk-container {/* jupyter's `normalize.less` sets `[hidden] { display: none; }` but bootstrap.min.css set `[hidden] { display: none !important; }` so we also need the `!important` here to be able to override the default hidden behavior on the sphinx rendered scikit-learn.org. See: https://github.com/scikit-learn/scikit-learn/issues/21755 */display: inline-block !important;position: relative;}#sk-container-id-3 div.sk-text-repr-fallback {display: none;}</style><div id=\"sk-container-id-3\" class=\"sk-top-container\"><div class=\"sk-text-repr-fallback\"><pre>LinearRegression()</pre><b>In a Jupyter environment, please rerun this cell to show the HTML representation or trust the notebook. <br />On GitHub, the HTML representation is unable to render, please try loading this page with nbviewer.org.</b></div><div class=\"sk-container\" hidden><div class=\"sk-item\"><div class=\"sk-estimator sk-toggleable\"><input class=\"sk-toggleable__control sk-hidden--visually\" id=\"sk-estimator-id-3\" type=\"checkbox\" checked><label for=\"sk-estimator-id-3\" class=\"sk-toggleable__label sk-toggleable__label-arrow\">LinearRegression</label><div class=\"sk-toggleable__content\"><pre>LinearRegression()</pre></div></div></div></div></div>"
      ],
      "text/plain": [
       "LinearRegression()"
      ]
     },
     "execution_count": 295,
     "metadata": {},
     "output_type": "execute_result"
    }
   ],
   "source": [
    "#Splitting Dataset into Training Set and Test Set\n",
    "from sklearn.model_selection import train_test_split\n",
    "X_Train, X_Test, Y_Train, Y_Test = train_test_split(X, Y, test_size = 1/20, random_state = 0)\n",
    "\n",
    "# Fitting Simple Linear Regression to the training set\n",
    "\n",
    "from sklearn.linear_model import LinearRegression\n",
    "regressor = LinearRegression()\n",
    "regressor.fit(X_Train, Y_Train)"
   ]
  },
  {
   "cell_type": "code",
   "execution_count": 296,
   "id": "f236d0c3",
   "metadata": {},
   "outputs": [
    {
     "data": {
      "text/plain": [
       "<Figure size 1000x600 with 0 Axes>"
      ]
     },
     "execution_count": 296,
     "metadata": {},
     "output_type": "execute_result"
    },
    {
     "data": {
      "image/png": "[encoded data removed]",
      "text/plain": [
       "<Figure size 640x480 with 1 Axes>"
      ]
     },
     "metadata": {},
     "output_type": "display_data"
    },
    {
     "data": {
      "text/plain": [
       "<Figure size 1000x600 with 0 Axes>"
      ]
     },
     "metadata": {},
     "output_type": "display_data"
    }
   ],
   "source": [
    "# Predicting the Test set result\n",
    "\n",
    "Y_Pred = regressor.predict(X_Test)\n",
    "\n",
    "#Visualising the Training set results\n",
    "\n",
    "plt.scatter(X_Train, Y_Train, color = 'red')\n",
    "plt.plot(X_Train, regressor.predict(X_Train), color = 'blue')\n",
    "plt.title('EV Cars vs Years  (Training Set)')\n",
    "plt.xlabel('Years from 2008 to 2020')\n",
    "plt.ylabel('Count')\n",
    "plt.figure(figsize=(10, 6))"
   ]
  },
  {
   "cell_type": "code",
   "execution_count": 297,
   "id": "e347f8e3",
   "metadata": {},
   "outputs": [
    {
     "data": {
      "image/png": "[encoded data removed]",
      "text/plain": [
       "<Figure size 640x480 with 1 Axes>"
      ]
     },
     "metadata": {},
     "output_type": "display_data"
    }
   ],
   "source": [
    "# Visualising the Test set results\n",
    "\n",
    "plt.scatter(X_Test, Y_Test, color = 'red')\n",
    "plt.plot(X_Train, regressor.predict(X_Train), color = 'blue')\n",
    "plt.title('EV Cars vs Years  (Testing Set)')\n",
    "plt.xlabel('Years from 2008 to 2020')\n",
    "plt.ylabel('Count')\n",
    "plt.show()"
   ]
  },
  {
   "cell_type": "markdown",
   "id": "a574ed40",
   "metadata": {},
   "source": [
    "## Multi Regression (Independent Variable: Year and Count, to see Growth in Electric Range)"
   ]
  },
  {
   "cell_type": "code",
   "execution_count": 298,
   "id": "513eb03d",
   "metadata": {},
   "outputs": [
    {
     "name": "stdout",
     "output_type": "stream",
     "text": [
      "[74.7489539748954, 106.00644329896907, 110.71321013004791, 128.93638392857142, 121.17279513408903, 135.98132295719844, 180.29876543209878, 209.7669360470917, 209.16853290676417, 279.3164848993289]\n"
     ]
    }
   ],
   "source": [
    "#Calculating for EV Range Means from 2011 up until 2020\n",
    "n=2011\n",
    "listrange =[]\n",
    "while n<2021:\n",
    "    EV_2008=EV_df[EV_df['Model Year']== n]\n",
    "    EV_2008['Electric Range'].mean()\n",
    "    listrange.append(EV_2008['Electric Range'].mean())\n",
    "    n = n+1\n",
    "print(listrange)"
   ]
  },
  {
   "cell_type": "code",
   "execution_count": 299,
   "id": "57e09445",
   "metadata": {},
   "outputs": [
    {
     "name": "stdout",
     "output_type": "stream",
     "text": [
      "[1, 2, 3, 4, 5, 6, 7, 8, 9, 10]\n"
     ]
    }
   ],
   "source": [
    "#Here n=1, is year 2011, and year 2020 is n=10\n",
    "listyear = []\n",
    "n=1\n",
    "while n<11:\n",
    "    listyear.append(n)\n",
    "    n = n+1\n",
    "print(listyear)"
   ]
  },
  {
   "cell_type": "code",
   "execution_count": 300,
   "id": "55ad999a",
   "metadata": {},
   "outputs": [],
   "source": [
    "ModelYearDF = EV_df[(EV_df['Model Year'] >= 2011) & (EV_df['Model Year'] <= 2020)]"
   ]
  },
  {
   "cell_type": "code",
   "execution_count": 301,
   "id": "7dce3333",
   "metadata": {},
   "outputs": [
    {
     "data": {
      "text/plain": [
       "2011      717\n",
       "2012      776\n",
       "2013     2922\n",
       "2014     1792\n",
       "2015     3617\n",
       "2016     3855\n",
       "2017     4455\n",
       "2018    10023\n",
       "2019     8752\n",
       "2020     9536\n",
       "Name: Model Year, dtype: int64"
      ]
     },
     "execution_count": 301,
     "metadata": {},
     "output_type": "execute_result"
    }
   ],
   "source": [
    "#Presenting the Data\n",
    "Year_Counts = ModelYearDF['Model Year'].value_counts().sort_index()\n",
    "Year_Counts"
   ]
  },
  {
   "cell_type": "code",
   "execution_count": 302,
   "id": "48136eba",
   "metadata": {},
   "outputs": [],
   "source": [
    "Years = Year_Counts.index\n",
    "Values = Year_Counts.values"
   ]
  },
  {
   "cell_type": "code",
   "execution_count": 303,
   "id": "0177e2f4",
   "metadata": {},
   "outputs": [
    {
     "data": {
      "text/html": [
       "<div>\n",
       "<style scoped>\n",
       "    .dataframe tbody tr th:only-of-type {\n",
       "        vertical-align: middle;\n",
       "    }\n",
       "\n",
       "    .dataframe tbody tr th {\n",
       "        vertical-align: top;\n",
       "    }\n",
       "\n",
       "    .dataframe thead th {\n",
       "        text-align: right;\n",
       "    }\n",
       "</style>\n",
       "<table border=\"1\" class=\"dataframe\">\n",
       "  <thead>\n",
       "    <tr style=\"text-align: right;\">\n",
       "      <th></th>\n",
       "      <th>Year</th>\n",
       "      <th>Count</th>\n",
       "      <th>Range</th>\n",
       "    </tr>\n",
       "  </thead>\n",
       "  <tbody>\n",
       "    <tr>\n",
       "      <th>0</th>\n",
       "      <td>1</td>\n",
       "      <td>717</td>\n",
       "      <td>74.748954</td>\n",
       "    </tr>\n",
       "    <tr>\n",
       "      <th>1</th>\n",
       "      <td>2</td>\n",
       "      <td>776</td>\n",
       "      <td>106.006443</td>\n",
       "    </tr>\n",
       "    <tr>\n",
       "      <th>2</th>\n",
       "      <td>3</td>\n",
       "      <td>2922</td>\n",
       "      <td>110.713210</td>\n",
       "    </tr>\n",
       "    <tr>\n",
       "      <th>3</th>\n",
       "      <td>4</td>\n",
       "      <td>1792</td>\n",
       "      <td>128.936384</td>\n",
       "    </tr>\n",
       "    <tr>\n",
       "      <th>4</th>\n",
       "      <td>5</td>\n",
       "      <td>3617</td>\n",
       "      <td>121.172795</td>\n",
       "    </tr>\n",
       "    <tr>\n",
       "      <th>5</th>\n",
       "      <td>6</td>\n",
       "      <td>3855</td>\n",
       "      <td>135.981323</td>\n",
       "    </tr>\n",
       "    <tr>\n",
       "      <th>6</th>\n",
       "      <td>7</td>\n",
       "      <td>4455</td>\n",
       "      <td>180.298765</td>\n",
       "    </tr>\n",
       "    <tr>\n",
       "      <th>7</th>\n",
       "      <td>8</td>\n",
       "      <td>10023</td>\n",
       "      <td>209.766936</td>\n",
       "    </tr>\n",
       "    <tr>\n",
       "      <th>8</th>\n",
       "      <td>9</td>\n",
       "      <td>8752</td>\n",
       "      <td>209.168533</td>\n",
       "    </tr>\n",
       "    <tr>\n",
       "      <th>9</th>\n",
       "      <td>10</td>\n",
       "      <td>9536</td>\n",
       "      <td>279.316485</td>\n",
       "    </tr>\n",
       "  </tbody>\n",
       "</table>\n",
       "</div>"
      ],
      "text/plain": [
       "   Year  Count       Range\n",
       "0     1    717   74.748954\n",
       "1     2    776  106.006443\n",
       "2     3   2922  110.713210\n",
       "3     4   1792  128.936384\n",
       "4     5   3617  121.172795\n",
       "5     6   3855  135.981323\n",
       "6     7   4455  180.298765\n",
       "7     8  10023  209.766936\n",
       "8     9   8752  209.168533\n",
       "9    10   9536  279.316485"
      ]
     },
     "execution_count": 303,
     "metadata": {},
     "output_type": "execute_result"
    }
   ],
   "source": [
    "#Presenting the Data in a Tabular Format\n",
    "EVrange_df1 = pd.DataFrame({'Year': listyear, 'Count': Values, 'Range': listrange})\n",
    "EVrange_df1"
   ]
  },
  {
   "cell_type": "code",
   "execution_count": 304,
   "id": "321be2c7",
   "metadata": {},
   "outputs": [
    {
     "data": {
      "text/html": [
       "<table class=\"simpletable\">\n",
       "<tr>\n",
       "        <td>Model:</td>               <td>OLS</td>         <td>Adj. R-squared:</td>     <td>0.887</td> \n",
       "</tr>\n",
       "<tr>\n",
       "  <td>Dependent Variable:</td>       <td>Range</td>             <td>AIC:</td>          <td>91.7105</td>\n",
       "</tr>\n",
       "<tr>\n",
       "         <td>Date:</td>        <td>2023-10-05 11:07</td>        <td>BIC:</td>          <td>92.6183</td>\n",
       "</tr>\n",
       "<tr>\n",
       "   <td>No. Observations:</td>         <td>10</td>          <td>Log-Likelihood:</td>    <td>-42.855</td>\n",
       "</tr>\n",
       "<tr>\n",
       "       <td>Df Model:</td>              <td>2</td>           <td>F-statistic:</td>       <td>36.16</td> \n",
       "</tr>\n",
       "<tr>\n",
       "     <td>Df Residuals:</td>            <td>7</td>        <td>Prob (F-statistic):</td> <td>0.000204</td>\n",
       "</tr>\n",
       "<tr>\n",
       "      <td>R-squared:</td>            <td>0.912</td>            <td>Scale:</td>         <td>441.35</td> \n",
       "</tr>\n",
       "</table>\n",
       "<table class=\"simpletable\">\n",
       "<tr>\n",
       "    <td></td>     <th>Coef.</th>  <th>Std.Err.</th>    <th>t</th>    <th>P>|t|</th> <th>[0.025</th>  <th>0.975]</th> \n",
       "</tr>\n",
       "<tr>\n",
       "  <th>const</th> <td>54.2933</td>  <td>15.9466</td> <td>3.4047</td> <td>0.0114</td> <td>16.5856</td> <td>92.0009</td>\n",
       "</tr>\n",
       "<tr>\n",
       "  <th>Year</th>  <td>14.4150</td>  <td>6.1619</td>  <td>2.3394</td> <td>0.0519</td> <td>-0.1555</td> <td>28.9856</td>\n",
       "</tr>\n",
       "<tr>\n",
       "  <th>Count</th> <td>0.0047</td>   <td>0.0053</td>  <td>0.9008</td> <td>0.3976</td> <td>-0.0077</td> <td>0.0172</td> \n",
       "</tr>\n",
       "</table>\n",
       "<table class=\"simpletable\">\n",
       "<tr>\n",
       "     <td>Omnibus:</td>    <td>0.706</td>  <td>Durbin-Watson:</td>   <td>1.733</td>\n",
       "</tr>\n",
       "<tr>\n",
       "  <td>Prob(Omnibus):</td> <td>0.703</td> <td>Jarque-Bera (JB):</td> <td>0.460</td>\n",
       "</tr>\n",
       "<tr>\n",
       "       <td>Skew:</td>     <td>0.455</td>     <td>Prob(JB):</td>     <td>0.794</td>\n",
       "</tr>\n",
       "<tr>\n",
       "     <td>Kurtosis:</td>   <td>2.475</td>  <td>Condition No.:</td>   <td>14297</td>\n",
       "</tr>\n",
       "</table><br/>\n",
       "Notes:<br/>\n",
       "[1] Standard Errors assume that the covariance matrix of the errors is correctly specified.<br/>\n",
       "[2] The condition number is large, 1.43e+04. This might indicate                that there are strong multicollinearity or other numerical                problems."
      ],
      "text/latex": [
       "\\begin{table}\n",
       "\\caption{Results: Ordinary least squares}\n",
       "\\label{}\n",
       "\\begin{center}\n",
       "\\begin{tabular}{llll}\n",
       "\\hline\n",
       "Model:              & OLS              & Adj. R-squared:     & 0.887     \\\\\n",
       "Dependent Variable: & Range            & AIC:                & 91.7105   \\\\\n",
       "Date:               & 2023-10-05 11:07 & BIC:                & 92.6183   \\\\\n",
       "No. Observations:   & 10               & Log-Likelihood:     & -42.855   \\\\\n",
       "Df Model:           & 2                & F-statistic:        & 36.16     \\\\\n",
       "Df Residuals:       & 7                & Prob (F-statistic): & 0.000204  \\\\\n",
       "R-squared:          & 0.912            & Scale:              & 441.35    \\\\\n",
       "\\hline\n",
       "\\end{tabular}\n",
       "\\end{center}\n",
       "\n",
       "\\begin{center}\n",
       "\\begin{tabular}{lrrrrrr}\n",
       "\\hline\n",
       "      &   Coef. & Std.Err. &      t & P$> |$t$|$ &  [0.025 &  0.975]  \\\\\n",
       "\\hline\n",
       "const & 54.2933 &  15.9466 & 3.4047 &      0.0114 & 16.5856 & 92.0009  \\\\\n",
       "Year  & 14.4150 &   6.1619 & 2.3394 &      0.0519 & -0.1555 & 28.9856  \\\\\n",
       "Count &  0.0047 &   0.0053 & 0.9008 &      0.3976 & -0.0077 &  0.0172  \\\\\n",
       "\\hline\n",
       "\\end{tabular}\n",
       "\\end{center}\n",
       "\n",
       "\\begin{center}\n",
       "\\begin{tabular}{llll}\n",
       "\\hline\n",
       "Omnibus:       & 0.706 & Durbin-Watson:    & 1.733  \\\\\n",
       "Prob(Omnibus): & 0.703 & Jarque-Bera (JB): & 0.460  \\\\\n",
       "Skew:          & 0.455 & Prob(JB):         & 0.794  \\\\\n",
       "Kurtosis:      & 2.475 & Condition No.:    & 14297  \\\\\n",
       "\\hline\n",
       "\\end{tabular}\n",
       "\\end{center}\n",
       "\\end{table}\n",
       "\\bigskip\n",
       "Notes: \\newline \n",
       "[1] Standard Errors assume that the covariance matrix of the errors is correctly specified. \\newline \n",
       "[2] The condition number is large, 1.43e+04. This might indicate                that there are strong multicollinearity or other numerical                problems."
      ],
      "text/plain": [
       "<class 'statsmodels.iolib.summary2.Summary'>\n",
       "\"\"\"\n",
       "                 Results: Ordinary least squares\n",
       "=================================================================\n",
       "Model:              OLS              Adj. R-squared:     0.887   \n",
       "Dependent Variable: Range            AIC:                91.7105 \n",
       "Date:               2023-10-05 11:07 BIC:                92.6183 \n",
       "No. Observations:   10               Log-Likelihood:     -42.855 \n",
       "Df Model:           2                F-statistic:        36.16   \n",
       "Df Residuals:       7                Prob (F-statistic): 0.000204\n",
       "R-squared:          0.912            Scale:              441.35  \n",
       "-------------------------------------------------------------------\n",
       "            Coef.    Std.Err.     t      P>|t|     [0.025    0.975]\n",
       "-------------------------------------------------------------------\n",
       "const      54.2933    15.9466   3.4047   0.0114   16.5856   92.0009\n",
       "Year       14.4150     6.1619   2.3394   0.0519   -0.1555   28.9856\n",
       "Count       0.0047     0.0053   0.9008   0.3976   -0.0077    0.0172\n",
       "-----------------------------------------------------------------\n",
       "Omnibus:              0.706        Durbin-Watson:           1.733\n",
       "Prob(Omnibus):        0.703        Jarque-Bera (JB):        0.460\n",
       "Skew:                 0.455        Prob(JB):                0.794\n",
       "Kurtosis:             2.475        Condition No.:           14297\n",
       "=================================================================\n",
       "Notes:\n",
       "[1] Standard Errors assume that the covariance matrix of the\n",
       "errors is correctly specified.\n",
       "[2] The condition number is large, 1.43e+04. This might indicate\n",
       "that there are strong multicollinearity or other numerical\n",
       "problems.\n",
       "\"\"\""
      ]
     },
     "execution_count": 304,
     "metadata": {},
     "output_type": "execute_result"
    }
   ],
   "source": [
    "#Examining the Statistics of the Multi-Regression\n",
    "import pandas as pd\n",
    "import statsmodels.api as sm\n",
    "\n",
    "# The Independent variables: Year and Count\n",
    "X2 = EVrange_df1[['Year', 'Count']]\n",
    "\n",
    "# Add a constant (intercept) to the independent variables\n",
    "X2 = sm.add_constant(X2)\n",
    "\n",
    "# The Depependent Variable: Range\n",
    "y2 = EVrange_df1['Range']\n",
    "\n",
    "# Fitting the multiple regression model\n",
    "model = sm.OLS(y2, X2).fit()\n",
    "\n",
    "# Print the regression summary\n",
    "model.summary2()"
   ]
  },
  {
   "cell_type": "code",
   "execution_count": 305,
   "id": "22faa3f3",
   "metadata": {},
   "outputs": [
    {
     "data": {
      "text/plain": [
       "Text(0.5, 1.0, 'Predicted Values vs Actual Values')"
      ]
     },
     "execution_count": 305,
     "metadata": {},
     "output_type": "execute_result"
    },
    {
     "data": {
      "image/png": "[encoded data removed]",
      "text/plain": [
       "<Figure size 640x480 with 1 Axes>"
      ]
     },
     "metadata": {},
     "output_type": "display_data"
    }
   ],
   "source": [
    "# Predicting the values vs the Actual Values\n",
    "predicted = model.predict(X2)\n",
    "predicted\n",
    "EVrange_df1['predicted ranges']=predicted\n",
    "plt.scatter(EVrange_df1['Year'], EVrange_df1['predicted ranges'], color = 'red')\n",
    "\n",
    "coefficients = np.polyfit(EVrange_df1['Year'], EVrange_df1['predicted ranges'], 1)\n",
    "slope, intercept = coefficients\n",
    "best_fit_line = slope * EVrange_df1['Year'] + intercept\n",
    "plt.plot(EVrange_df1['Year'], best_fit_line, color='blue', label='Best Fit Line')\n",
    "plt.xlabel('Year')\n",
    "plt.ylabel('Range')\n",
    "plt.title('Predicted Values vs Actual Values')"
   ]
  },
  {
   "cell_type": "markdown",
   "id": "9ff8dd8c",
   "metadata": {},
   "source": [
    "## Optimization: Optimizing Acquisition Value (using Price and Electric Range)"
   ]
  },
  {
   "cell_type": "code",
   "execution_count": 306,
   "id": "63c566d2",
   "metadata": {},
   "outputs": [],
   "source": [
    "# We concatenate keys, [Brand/Model] in order to have a new key as a variable"
   ]
  },
  {
   "cell_type": "code",
   "execution_count": 307,
   "id": "426229e3",
   "metadata": {
    "scrolled": true
   },
   "outputs": [
    {
     "data": {
      "text/plain": [
       "<bound method NDFrame.head of         VIN (1-10)     County          City State  Postal Code  Model Year  \\\n",
       "0       KM8K33AGXL       King       Seattle    WA      98103.0        2020   \n",
       "3       5YJ3E1EA7J       King      Kirkland    WA      98034.0        2018   \n",
       "5       5YJ3E1EAXL  Snohomish    Marysville    WA      98271.0        2020   \n",
       "7       5YJYGDEE3L       King   Woodinville    WA      98072.0        2020   \n",
       "8       5YJ3E1EA1J     Island    Coupeville    WA      98239.0        2018   \n",
       "...            ...        ...           ...   ...          ...         ...   \n",
       "150458  5YJ3E1EB0J    Spokane  Liberty Lake    WA      99019.0        2018   \n",
       "150461  5YJSA1E28G       King          Kent    WA      98030.0        2016   \n",
       "150462  5YJ3E1ECXL     Pierce   Bonney Lake    WA      98391.0        2020   \n",
       "150467  5YJYGDEF1L  Snohomish       Edmonds    WA      98026.0        2020   \n",
       "150468  KNDJX3AE4G    Whatcom    Bellingham    WA      98225.0        2016   \n",
       "\n",
       "           Make    Model           Electric Vehicle Type  \\\n",
       "0       HYUNDAI     KONA  Battery Electric Vehicle (BEV)   \n",
       "3         TESLA  MODEL 3  Battery Electric Vehicle (BEV)   \n",
       "5         TESLA  MODEL 3  Battery Electric Vehicle (BEV)   \n",
       "7         TESLA  MODEL Y  Battery Electric Vehicle (BEV)   \n",
       "8         TESLA  MODEL 3  Battery Electric Vehicle (BEV)   \n",
       "...         ...      ...                             ...   \n",
       "150458    TESLA  MODEL 3  Battery Electric Vehicle (BEV)   \n",
       "150461    TESLA  MODEL S  Battery Electric Vehicle (BEV)   \n",
       "150462    TESLA  MODEL 3  Battery Electric Vehicle (BEV)   \n",
       "150467    TESLA  MODEL Y  Battery Electric Vehicle (BEV)   \n",
       "150468      KIA     SOUL  Battery Electric Vehicle (BEV)   \n",
       "\n",
       "       Clean Alternative Fuel Vehicle (CAFV) Eligibility  Electric Range  \\\n",
       "0                Clean Alternative Fuel Vehicle Eligible             258   \n",
       "3                Clean Alternative Fuel Vehicle Eligible             215   \n",
       "5                Clean Alternative Fuel Vehicle Eligible             266   \n",
       "7                Clean Alternative Fuel Vehicle Eligible             291   \n",
       "8                Clean Alternative Fuel Vehicle Eligible             215   \n",
       "...                                                  ...             ...   \n",
       "150458           Clean Alternative Fuel Vehicle Eligible             215   \n",
       "150461           Clean Alternative Fuel Vehicle Eligible             210   \n",
       "150462           Clean Alternative Fuel Vehicle Eligible             308   \n",
       "150467           Clean Alternative Fuel Vehicle Eligible             291   \n",
       "150468           Clean Alternative Fuel Vehicle Eligible              93   \n",
       "\n",
       "        Base MSRP  Legislative District  DOL Vehicle ID  \\\n",
       "0               0                  43.0       249675142   \n",
       "3               0                  45.0       104714466   \n",
       "5               0                  38.0       124595523   \n",
       "7               0                  45.0       124760555   \n",
       "8               0                  10.0       125048003   \n",
       "...           ...                   ...             ...   \n",
       "150458          0                   4.0       285861670   \n",
       "150461          0                  47.0       229126621   \n",
       "150462          0                  31.0       102879556   \n",
       "150467          0                  32.0       132730125   \n",
       "150468      31950                  42.0       223923871   \n",
       "\n",
       "                       Vehicle Location  \\\n",
       "0          POINT (-122.34301 47.659185)   \n",
       "3          POINT (-122.209285 47.71124)   \n",
       "5         POINT (-122.1713847 48.10433)   \n",
       "7          POINT (-122.151665 47.75855)   \n",
       "8       POINT (-122.6880708 48.2179983)   \n",
       "...                                 ...   \n",
       "150458  POINT (-117.0923638 47.6643385)   \n",
       "150461     POINT (-122.199755 47.37483)   \n",
       "150462     POINT (-122.183805 47.18062)   \n",
       "150467     POINT (-122.335685 47.80372)   \n",
       "150468    POINT (-122.486115 48.761615)   \n",
       "\n",
       "                                         Electric Utility  2020 Census Tract  \n",
       "0            CITY OF SEATTLE - (WA)|CITY OF TACOMA - (WA)       5.303300e+10  \n",
       "3           PUGET SOUND ENERGY INC||CITY OF TACOMA - (WA)       5.303302e+10  \n",
       "5                                  PUGET SOUND ENERGY INC       5.306194e+10  \n",
       "7           PUGET SOUND ENERGY INC||CITY OF TACOMA - (WA)       5.303302e+10  \n",
       "8                                  PUGET SOUND ENERGY INC       5.302997e+10  \n",
       "...                                                   ...                ...  \n",
       "150458  BONNEVILLE POWER ADMINISTRATION||AVISTA CORP||...       5.306301e+10  \n",
       "150461      PUGET SOUND ENERGY INC||CITY OF TACOMA - (WA)       5.303303e+10  \n",
       "150462      PUGET SOUND ENERGY INC||CITY OF TACOMA - (WA)       5.305307e+10  \n",
       "150467                             PUGET SOUND ENERGY INC       5.306105e+10  \n",
       "150468  PUGET SOUND ENERGY INC||PUD NO 1 OF WHATCOM CO...       5.307300e+10  \n",
       "\n",
       "[47003 rows x 17 columns]>"
      ]
     },
     "execution_count": 307,
     "metadata": {},
     "output_type": "execute_result"
    }
   ],
   "source": [
    "EV_df.head"
   ]
  },
  {
   "cell_type": "code",
   "execution_count": 308,
   "id": "ec5421d0",
   "metadata": {},
   "outputs": [],
   "source": [
    "EV_df['Model-Brand']=EV_df['Make']+EV_df['Model'].astype(str)"
   ]
  },
  {
   "cell_type": "code",
   "execution_count": 309,
   "id": "792dd122",
   "metadata": {},
   "outputs": [
    {
     "name": "stdout",
     "output_type": "stream",
     "text": [
      "                                BrandModel\n",
      "0                              HYUNDAIKONA\n",
      "1                             TESLAMODEL 3\n",
      "2                             TESLAMODEL Y\n",
      "3                               AUDIE-TRON\n",
      "4                               NISSANLEAF\n",
      "5                             TESLAMODEL S\n",
      "6                               TOYOTARAV4\n",
      "7                         VOLKSWAGENE-GOLF\n",
      "8                                  KIANIRO\n",
      "9                                  FIAT500\n",
      "10                        CHEVROLETBOLT EV\n",
      "11                               FORDFOCUS\n",
      "12                            TESLAMODEL X\n",
      "13                                   BMWI3\n",
      "14                             MINIHARDTOP\n",
      "15                          SMARTEQ FORTWO\n",
      "16                                 KIASOUL\n",
      "17                              KIASOUL EV\n",
      "18                             SMARTFORTWO\n",
      "19                             POLESTARPS2\n",
      "20                            JAGUARI-PACE\n",
      "21                          CHEVROLETSPARK\n",
      "22                           PORSCHETAYCAN\n",
      "23                    MERCEDES-BENZB-CLASS\n",
      "24                    AUDIE-TRON SPORTBACK\n",
      "25              SMARTFORTWO ELECTRIC DRIVE\n",
      "26                            HYUNDAIIONIQ\n",
      "27                           TESLAROADSTER\n",
      "28                        MITSUBISHII-MIEV\n",
      "29                               TH!NKCITY\n",
      "30  AZURE DYNAMICSTRANSIT CONNECT ELECTRIC\n",
      "31                              FORDRANGER\n",
      "32                    CHEVROLETS-10 PICKUP\n"
     ]
    }
   ],
   "source": [
    "#Counting Unique Instances of Model and Brand\n",
    "unique_mb=EV_df['Model-Brand'].unique()\n",
    "unique_df=pd.DataFrame(unique_mb,columns=['BrandModel'])\n",
    "print(unique_df)"
   ]
  },
  {
   "cell_type": "markdown",
   "id": "abad7af2",
   "metadata": {},
   "source": [
    "* We have 32 variables!\n",
    "* We will fixed our objetive function in just variables with bodytype = \"Hatchback\" and use the a two new datasets with body type and prices as attributes!"
   ]
  },
  {
   "cell_type": "code",
   "execution_count": 310,
   "id": "96a96dfd",
   "metadata": {},
   "outputs": [],
   "source": [
    "filter1=list(unique_df['BrandModel'])\n",
    "filter2=['Hatchback']"
   ]
  },
  {
   "cell_type": "code",
   "execution_count": 311,
   "id": "b4868fe8",
   "metadata": {},
   "outputs": [],
   "source": [
    "#The Two New Datasets used to run optimizations\n",
    "mydf2 = pd.read_csv(\"cars_us_22.csv\")\n",
    "mydf3 = pd.read_csv(\"data_m2.csv\")"
   ]
  },
  {
   "cell_type": "code",
   "execution_count": 312,
   "id": "4a471e12",
   "metadata": {},
   "outputs": [],
   "source": [
    "filtered_df=mydf2[mydf2['BrandModel'].isin(filter1)]"
   ]
  },
  {
   "cell_type": "code",
   "execution_count": 313,
   "id": "3f86dfd3",
   "metadata": {
    "scrolled": true
   },
   "outputs": [
    {
     "data": {
      "text/html": [
       "<div>\n",
       "<style scoped>\n",
       "    .dataframe tbody tr th:only-of-type {\n",
       "        vertical-align: middle;\n",
       "    }\n",
       "\n",
       "    .dataframe tbody tr th {\n",
       "        vertical-align: top;\n",
       "    }\n",
       "\n",
       "    .dataframe thead th {\n",
       "        text-align: right;\n",
       "    }\n",
       "</style>\n",
       "<table border=\"1\" class=\"dataframe\">\n",
       "  <thead>\n",
       "    <tr style=\"text-align: right;\">\n",
       "      <th></th>\n",
       "      <th>CORR.</th>\n",
       "      <th>Brand</th>\n",
       "      <th>Model.Number</th>\n",
       "      <th>BrandModel</th>\n",
       "      <th>Price</th>\n",
       "      <th>Photo</th>\n",
       "      <th>Engine.Type</th>\n",
       "      <th>Body.Type</th>\n",
       "      <th>Fuel.Type</th>\n",
       "      <th>Gearbox.Type</th>\n",
       "      <th>...</th>\n",
       "      <th>CD.Player</th>\n",
       "      <th>DVD.Player</th>\n",
       "      <th>Electric.Adjustable.Seats</th>\n",
       "      <th>Keyless.Entry</th>\n",
       "      <th>Tyre.Pressure.Monitor</th>\n",
       "      <th>Smart.Access.Card.Entry</th>\n",
       "      <th>Xenon.Headlamps</th>\n",
       "      <th>Halogen.Headlamps</th>\n",
       "      <th>Removable.Convertible.Top</th>\n",
       "      <th>Cassette.Player</th>\n",
       "    </tr>\n",
       "  </thead>\n",
       "  <tbody>\n",
       "    <tr>\n",
       "      <th>120</th>\n",
       "      <td>121</td>\n",
       "      <td>BMW</td>\n",
       "      <td>I3</td>\n",
       "      <td>BMWI3</td>\n",
       "      <td>48300.0</td>\n",
       "      <td>https://www.ccarprice.com/products/BMW_7_Serie...</td>\n",
       "      <td>3.0L Turbo Inline-6 Gas</td>\n",
       "      <td>Hatchback</td>\n",
       "      <td>Petrol</td>\n",
       "      <td>Automatic</td>\n",
       "      <td>...</td>\n",
       "      <td>NaN</td>\n",
       "      <td>NaN</td>\n",
       "      <td>Yes</td>\n",
       "      <td>Yes</td>\n",
       "      <td>Yes</td>\n",
       "      <td>Yes</td>\n",
       "      <td>NaN</td>\n",
       "      <td>NaN</td>\n",
       "      <td>NaN</td>\n",
       "      <td>NaN</td>\n",
       "    </tr>\n",
       "    <tr>\n",
       "      <th>243</th>\n",
       "      <td>244</td>\n",
       "      <td>Mitsubishi</td>\n",
       "      <td>I-MIEV</td>\n",
       "      <td>MITSUBISHII-MIEV</td>\n",
       "      <td>9999999.0</td>\n",
       "      <td>https://www.ccarprice.com/products/Hyundai_Aur...</td>\n",
       "      <td>1.0 l Kappa turbo GDi petrol</td>\n",
       "      <td>Hatchback</td>\n",
       "      <td>Electric</td>\n",
       "      <td>Manual</td>\n",
       "      <td>...</td>\n",
       "      <td>NaN</td>\n",
       "      <td>NaN</td>\n",
       "      <td>NaN</td>\n",
       "      <td>NaN</td>\n",
       "      <td>NaN</td>\n",
       "      <td>NaN</td>\n",
       "      <td>NaN</td>\n",
       "      <td>NaN</td>\n",
       "      <td>NaN</td>\n",
       "      <td>NaN</td>\n",
       "    </tr>\n",
       "    <tr>\n",
       "      <th>384</th>\n",
       "      <td>385</td>\n",
       "      <td>Nissan</td>\n",
       "      <td>Leaf 2023</td>\n",
       "      <td>NISSANLEAF</td>\n",
       "      <td>27800.0</td>\n",
       "      <td>https://www.ccarprice.com/products/Nissan_Leaf...</td>\n",
       "      <td>Electric</td>\n",
       "      <td>Hatchback</td>\n",
       "      <td>Electric</td>\n",
       "      <td>Automatic</td>\n",
       "      <td>...</td>\n",
       "      <td>NaN</td>\n",
       "      <td>NaN</td>\n",
       "      <td>NaN</td>\n",
       "      <td>NaN</td>\n",
       "      <td>NaN</td>\n",
       "      <td>NaN</td>\n",
       "      <td>NaN</td>\n",
       "      <td>NaN</td>\n",
       "      <td>NaN</td>\n",
       "      <td>NaN</td>\n",
       "    </tr>\n",
       "    <tr>\n",
       "      <th>572</th>\n",
       "      <td>573</td>\n",
       "      <td>Ford</td>\n",
       "      <td>Focus 2023</td>\n",
       "      <td>FORDFOCUS</td>\n",
       "      <td>47990.0</td>\n",
       "      <td>https://www.ccarprice.com/products/Ford_Focus_...</td>\n",
       "      <td>5.3L Turbocharged Inline 4 Petrol</td>\n",
       "      <td>Hatchback</td>\n",
       "      <td>Electric</td>\n",
       "      <td>Manual</td>\n",
       "      <td>...</td>\n",
       "      <td>NaN</td>\n",
       "      <td>NaN</td>\n",
       "      <td>NaN</td>\n",
       "      <td>NaN</td>\n",
       "      <td>NaN</td>\n",
       "      <td>NaN</td>\n",
       "      <td>NaN</td>\n",
       "      <td>NaN</td>\n",
       "      <td>NaN</td>\n",
       "      <td>NaN</td>\n",
       "    </tr>\n",
       "    <tr>\n",
       "      <th>1071</th>\n",
       "      <td>1072</td>\n",
       "      <td>Volkswagen</td>\n",
       "      <td>E-Golf 2022</td>\n",
       "      <td>VOLKSWAGENE-GOLF</td>\n",
       "      <td>23190.0</td>\n",
       "      <td>https://www.ccarprice.com/products/Volkswagen_...</td>\n",
       "      <td>NaN</td>\n",
       "      <td>Hatchback</td>\n",
       "      <td>Unknown</td>\n",
       "      <td>Automatic</td>\n",
       "      <td>...</td>\n",
       "      <td>NaN</td>\n",
       "      <td>NaN</td>\n",
       "      <td>NaN</td>\n",
       "      <td>NaN</td>\n",
       "      <td>NaN</td>\n",
       "      <td>NaN</td>\n",
       "      <td>NaN</td>\n",
       "      <td>NaN</td>\n",
       "      <td>NaN</td>\n",
       "      <td>NaN</td>\n",
       "    </tr>\n",
       "    <tr>\n",
       "      <th>1932</th>\n",
       "      <td>1933</td>\n",
       "      <td>MINI</td>\n",
       "      <td>Cooper Electric Hardtop 2023</td>\n",
       "      <td>MINIHARDTOP</td>\n",
       "      <td>29900.0</td>\n",
       "      <td>https://www.ccarprice.com/products/Mini_Cooper...</td>\n",
       "      <td>Electric</td>\n",
       "      <td>Hatchback</td>\n",
       "      <td>Electric</td>\n",
       "      <td>Automatic</td>\n",
       "      <td>...</td>\n",
       "      <td>NaN</td>\n",
       "      <td>NaN</td>\n",
       "      <td>Yes</td>\n",
       "      <td>Yes</td>\n",
       "      <td>Yes</td>\n",
       "      <td>Yes</td>\n",
       "      <td>NaN</td>\n",
       "      <td>NaN</td>\n",
       "      <td>NaN</td>\n",
       "      <td>NaN</td>\n",
       "    </tr>\n",
       "    <tr>\n",
       "      <th>1975</th>\n",
       "      <td>1976</td>\n",
       "      <td>Fiat</td>\n",
       "      <td>500 Icon 2022</td>\n",
       "      <td>FIAT500</td>\n",
       "      <td>22440.0</td>\n",
       "      <td>https://www.ccarprice.com/products/Fiat_500_Ic...</td>\n",
       "      <td>42kWh/one electric motor</td>\n",
       "      <td>Hatchback</td>\n",
       "      <td>Electric</td>\n",
       "      <td>Automatic</td>\n",
       "      <td>...</td>\n",
       "      <td>NaN</td>\n",
       "      <td>NaN</td>\n",
       "      <td>NaN</td>\n",
       "      <td>NaN</td>\n",
       "      <td>NaN</td>\n",
       "      <td>NaN</td>\n",
       "      <td>NaN</td>\n",
       "      <td>NaN</td>\n",
       "      <td>NaN</td>\n",
       "      <td>NaN</td>\n",
       "    </tr>\n",
       "    <tr>\n",
       "      <th>2274</th>\n",
       "      <td>2275</td>\n",
       "      <td>Tesla</td>\n",
       "      <td>Model S 2022</td>\n",
       "      <td>TESLAMODEL S</td>\n",
       "      <td>104990.0</td>\n",
       "      <td>https://www.ccarprice.com/products/Tesla_Model...</td>\n",
       "      <td>Electric</td>\n",
       "      <td>Hatchback</td>\n",
       "      <td>Electric</td>\n",
       "      <td>Automatic</td>\n",
       "      <td>...</td>\n",
       "      <td>NaN</td>\n",
       "      <td>NaN</td>\n",
       "      <td>Yes</td>\n",
       "      <td>NaN</td>\n",
       "      <td>NaN</td>\n",
       "      <td>NaN</td>\n",
       "      <td>NaN</td>\n",
       "      <td>NaN</td>\n",
       "      <td>NaN</td>\n",
       "      <td>NaN</td>\n",
       "    </tr>\n",
       "  </tbody>\n",
       "</table>\n",
       "<p>8 rows × 77 columns</p>\n",
       "</div>"
      ],
      "text/plain": [
       "      CORR.       Brand                  Model.Number        BrandModel  \\\n",
       "120     121         BMW                            I3             BMWI3   \n",
       "243     244  Mitsubishi                        I-MIEV  MITSUBISHII-MIEV   \n",
       "384     385      Nissan                     Leaf 2023        NISSANLEAF   \n",
       "572     573        Ford                    Focus 2023         FORDFOCUS   \n",
       "1071   1072  Volkswagen                   E-Golf 2022  VOLKSWAGENE-GOLF   \n",
       "1932   1933        MINI  Cooper Electric Hardtop 2023       MINIHARDTOP   \n",
       "1975   1976        Fiat                 500 Icon 2022           FIAT500   \n",
       "2274   2275       Tesla                  Model S 2022      TESLAMODEL S   \n",
       "\n",
       "          Price                                              Photo  \\\n",
       "120     48300.0  https://www.ccarprice.com/products/BMW_7_Serie...   \n",
       "243   9999999.0  https://www.ccarprice.com/products/Hyundai_Aur...   \n",
       "384     27800.0  https://www.ccarprice.com/products/Nissan_Leaf...   \n",
       "572     47990.0  https://www.ccarprice.com/products/Ford_Focus_...   \n",
       "1071    23190.0  https://www.ccarprice.com/products/Volkswagen_...   \n",
       "1932    29900.0  https://www.ccarprice.com/products/Mini_Cooper...   \n",
       "1975    22440.0  https://www.ccarprice.com/products/Fiat_500_Ic...   \n",
       "2274   104990.0  https://www.ccarprice.com/products/Tesla_Model...   \n",
       "\n",
       "                            Engine.Type  Body.Type Fuel.Type Gearbox.Type  \\\n",
       "120             3.0L Turbo Inline-6 Gas  Hatchback    Petrol    Automatic   \n",
       "243        1.0 l Kappa turbo GDi petrol  Hatchback  Electric       Manual   \n",
       "384                            Electric  Hatchback  Electric    Automatic   \n",
       "572   5.3L Turbocharged Inline 4 Petrol  Hatchback  Electric       Manual   \n",
       "1071                                NaN  Hatchback   Unknown    Automatic   \n",
       "1932                           Electric  Hatchback  Electric    Automatic   \n",
       "1975           42kWh/one electric motor  Hatchback  Electric    Automatic   \n",
       "2274                           Electric  Hatchback  Electric    Automatic   \n",
       "\n",
       "      ...  CD.Player  DVD.Player  Electric.Adjustable.Seats  Keyless.Entry  \\\n",
       "120   ...        NaN         NaN                        Yes            Yes   \n",
       "243   ...        NaN         NaN                        NaN            NaN   \n",
       "384   ...        NaN         NaN                        NaN            NaN   \n",
       "572   ...        NaN         NaN                        NaN            NaN   \n",
       "1071  ...        NaN         NaN                        NaN            NaN   \n",
       "1932  ...        NaN         NaN                        Yes            Yes   \n",
       "1975  ...        NaN         NaN                        NaN            NaN   \n",
       "2274  ...        NaN         NaN                        Yes            NaN   \n",
       "\n",
       "     Tyre.Pressure.Monitor  Smart.Access.Card.Entry  Xenon.Headlamps  \\\n",
       "120                    Yes                      Yes              NaN   \n",
       "243                    NaN                      NaN              NaN   \n",
       "384                    NaN                      NaN              NaN   \n",
       "572                    NaN                      NaN              NaN   \n",
       "1071                   NaN                      NaN              NaN   \n",
       "1932                   Yes                      Yes              NaN   \n",
       "1975                   NaN                      NaN              NaN   \n",
       "2274                   NaN                      NaN              NaN   \n",
       "\n",
       "      Halogen.Headlamps  Removable.Convertible.Top  Cassette.Player  \n",
       "120                 NaN                        NaN              NaN  \n",
       "243                 NaN                        NaN              NaN  \n",
       "384                 NaN                        NaN              NaN  \n",
       "572                 NaN                        NaN              NaN  \n",
       "1071                NaN                        NaN              NaN  \n",
       "1932                NaN                        NaN              NaN  \n",
       "1975                NaN                        NaN              NaN  \n",
       "2274                NaN                        NaN              NaN  \n",
       "\n",
       "[8 rows x 77 columns]"
      ]
     },
     "execution_count": 313,
     "metadata": {},
     "output_type": "execute_result"
    }
   ],
   "source": [
    "filtered_df_1=filtered_df[mydf2['Body.Type'].isin(filter2)]\n",
    "filtered_df_1"
   ]
  },
  {
   "cell_type": "code",
   "execution_count": 314,
   "id": "5a6ef8a7",
   "metadata": {
    "scrolled": true
   },
   "outputs": [
    {
     "data": {
      "text/plain": [
       "Index(['VIN (1-10)', 'County', 'City', 'State', 'Postal Code', 'Model Year',\n",
       "       'Make', 'Model', 'BrandModel', 'Electric Vehicle Type',\n",
       "       'Clean Alternative Fuel Vehicle (CAFV) Eligibility', 'Electric Range',\n",
       "       'Base MSRP', 'Legislative District', 'DOL Vehicle ID',\n",
       "       'Vehicle Location', 'Electric Utility', '2020 Census Tract'],\n",
       "      dtype='object')"
      ]
     },
     "execution_count": 314,
     "metadata": {},
     "output_type": "execute_result"
    }
   ],
   "source": [
    "filter3=list(filtered_df_1['BrandModel'])\n",
    "filtered_df3=mydf3[mydf3['BrandModel'].isin(filter3)]\n",
    "filtered_df3.keys()"
   ]
  },
  {
   "cell_type": "code",
   "execution_count": 315,
   "id": "5c0a2680",
   "metadata": {},
   "outputs": [],
   "source": [
    "# We model the coefficient per each variable considering Prices & Electric Range"
   ]
  },
  {
   "cell_type": "code",
   "execution_count": 316,
   "id": "6d79ca32",
   "metadata": {},
   "outputs": [],
   "source": [
    "#We weighted the criterias"
   ]
  },
  {
   "cell_type": "code",
   "execution_count": 317,
   "id": "0aa05f5b",
   "metadata": {},
   "outputs": [],
   "source": [
    "criteria_price=0.5\n",
    "criteria_elec=0.5"
   ]
  },
  {
   "cell_type": "code",
   "execution_count": 318,
   "id": "0c6e9bb8",
   "metadata": {},
   "outputs": [],
   "source": [
    "x1=criteria_price*(filtered_df_1['Price'].min()/48300) + (criteria_elec*(153/337))\n",
    "x2=criteria_price*(filtered_df_1['Price'].min()/9999999) + (criteria_elec*(62/337))\n",
    "x3=criteria_price*(filtered_df_1['Price'].min()/27800) + (criteria_elec*(84/337))\n",
    "x4=criteria_price*(filtered_df_1['Price'].min()/47990) + (criteria_elec*(76/337))\n",
    "x5=criteria_price*(filtered_df_1['Price'].min()/23190) + (criteria_elec*(125/337))\n",
    "x6=criteria_price*(filtered_df_1['Price'].min()/29990)+ (criteria_elec*(110/337))\n",
    "x7=criteria_price*(filtered_df_1['Price'].min()/22440)+ (criteria_elec*(87/337))\n",
    "x8=criteria_price*(filtered_df_1['Price'].min()/104990)+ (criteria_elec*(337/337))"
   ]
  },
  {
   "cell_type": "markdown",
   "id": "3d9e089d",
   "metadata": {},
   "source": [
    "<!-- To meet the requirement \n",
    "\n",
    "The 2 cars need different time with each resource:\n",
    "\n",
    "Total Time : Model 3 – 2 days; Model S – 14 days\n",
    "\n",
    "Robot time: Model 3 – 1 days; Model S – 5 days\n",
    "\n",
    "Engineer time: Model 3 – 0.5 days; Model S – 7 days\n",
    "\n",
    "Detailer time: Model 3 – 0.5 days; Model S – 2 days\n",
    "\n",
    "Model 3 cost of manufacturing is $28000 and Model S manufacturing cost is $44,000\n",
    "\n",
    "Model 3 selling price $40,000 and Model S makes $90,000\n",
    "\n",
    "From market Share 55% belongs to tesla, so assuming same for near future. 5500 cars need to be produced to meet the demand in Washington state.\n",
    "\n",
    "\n",
    "May be we can work on optimising the schedule to meet the requiremnt? -->"
   ]
  },
  {
   "cell_type": "markdown",
   "id": "65b38798",
   "metadata": {},
   "source": [
    "__Objective Function:__ Since we need to optimize the acquisition value, which is a ratio, considering prices & Electric ranges"
   ]
  },
  {
   "cell_type": "code",
   "execution_count": 319,
   "id": "720b6992",
   "metadata": {},
   "outputs": [],
   "source": [
    "obj = [-x1, -x2, -x3, -x4,-x5,-x6,-x7,-x8] "
   ]
  },
  {
   "cell_type": "markdown",
   "id": "c51008bd",
   "metadata": {},
   "source": [
    "__LHS:__ LHS matrix of inequality equations"
   ]
  },
  {
   "cell_type": "code",
   "execution_count": 320,
   "id": "5bd29c54",
   "metadata": {},
   "outputs": [],
   "source": [
    "lhs = [[1,1,1,1,1,1,1,1],[0,0,0,0,1,0,0,0]]"
   ]
  },
  {
   "cell_type": "markdown",
   "id": "7fb003f7",
   "metadata": {},
   "source": [
    "__RHS:__ RHS matrix of inequality equations, we set as demand a forecast for the bodytype, and a constraint for an specific brand-model"
   ]
  },
  {
   "cell_type": "code",
   "execution_count": 321,
   "id": "91c3d842",
   "metadata": {},
   "outputs": [],
   "source": [
    "rhs = [4000,100]"
   ]
  },
  {
   "cell_type": "code",
   "execution_count": 322,
   "id": "7240731e",
   "metadata": {},
   "outputs": [],
   "source": [
    "from scipy.optimize import linprog"
   ]
  },
  {
   "cell_type": "code",
   "execution_count": 323,
   "id": "86162753",
   "metadata": {},
   "outputs": [],
   "source": [
    "lp_opt = linprog(c=obj,A_ub=lhs,b_ub=rhs,method = 'interior-point')"
   ]
  },
  {
   "cell_type": "code",
   "execution_count": 324,
   "id": "084d1682",
   "metadata": {
    "scrolled": true
   },
   "outputs": [
    {
     "data": {
      "text/plain": [
       " message: Optimization terminated successfully.\n",
       " success: True\n",
       "  status: 0\n",
       "     fun: -2520.3413792051065\n",
       "       x: [ 5.247e-07  1.789e-07  9.008e-07  3.221e-07  1.000e+02\n",
       "            9.925e-07  3.900e+03  2.799e-06]\n",
       "     nit: 6"
      ]
     },
     "execution_count": 324,
     "metadata": {},
     "output_type": "execute_result"
    }
   ],
   "source": [
    "lp_opt"
   ]
  },
  {
   "cell_type": "markdown",
   "id": "c7266a97",
   "metadata": {},
   "source": [
    "## Clustering: Identify Patterns between Price and Electric Range"
   ]
  },
  {
   "cell_type": "code",
   "execution_count": 325,
   "id": "584d4546",
   "metadata": {},
   "outputs": [],
   "source": [
    "import warnings\n",
    "warnings.filterwarnings('ignore')"
   ]
  },
  {
   "cell_type": "code",
   "execution_count": 326,
   "id": "d4750cd5",
   "metadata": {
    "scrolled": true
   },
   "outputs": [
    {
     "data": {
      "text/plain": [
       "Index(['VIN (1-10)', 'County', 'City', 'State', 'Postal Code', 'Model Year',\n",
       "       'Make', 'Model', 'Electric Vehicle Type',\n",
       "       'Clean Alternative Fuel Vehicle (CAFV) Eligibility', 'Electric Range',\n",
       "       'Base MSRP', 'Legislative District', 'DOL Vehicle ID',\n",
       "       'Vehicle Location', 'Electric Utility', '2020 Census Tract'],\n",
       "      dtype='object')"
      ]
     },
     "execution_count": 326,
     "metadata": {},
     "output_type": "execute_result"
    }
   ],
   "source": [
    "mydf.columns"
   ]
  },
  {
   "cell_type": "code",
   "execution_count": 327,
   "id": "d8f56377",
   "metadata": {},
   "outputs": [],
   "source": [
    "import pandas as pd\n",
    "import numpy as np\n",
    "import matplotlib.pyplot as plt\n",
    "import seaborn as sn\n",
    "%matplotlib inline\n",
    "from sklearn.cluster import KMeans"
   ]
  },
  {
   "cell_type": "code",
   "execution_count": 328,
   "id": "3a6aaf2e",
   "metadata": {
    "scrolled": true
   },
   "outputs": [
    {
     "data": {
      "image/png": "[encoded data removed]",
      "text/plain": [
       "<Figure size 800x600 with 1 Axes>"
      ]
     },
     "metadata": {},
     "output_type": "display_data"
    },
    {
     "data": {
      "image/png": "[encoded data removed]",
      "text/plain": [
       "<Figure size 800x600 with 1 Axes>"
      ]
     },
     "metadata": {},
     "output_type": "display_data"
    }
   ],
   "source": [
    "mydf = mydf.dropna(subset=['Base MSRP', 'Electric Range'])\n",
    "\n",
    "mydf['Base MSRP'] = pd.to_numeric(mydf['Base MSRP'], errors='coerce')\n",
    "mydf['Electric Range'] = pd.to_numeric(mydf['Electric Range'], errors='coerce')\n",
    "\n",
    "# filter outliers\n",
    "mydf = mydf[(mydf['Base MSRP'] != 0) & (mydf['Base MSRP'] <= 150000)]\n",
    "\n",
    "# scatter plot\n",
    "plt.figure(figsize=(8, 6))\n",
    "plt.scatter(mydf[\"Base MSRP\"], mydf[\"Electric Range\"], marker='o', alpha=0.5)\n",
    "plt.xlabel(\"Base MSRP\")\n",
    "plt.ylabel(\"Electric Range\")\n",
    "plt.title(\"Fig: Electric Range vs. Base MSRP\")\n",
    "plt.show()\n",
    "\n",
    "# Fit KMeans clustering\n",
    "X = mydf[['Base MSRP', 'Electric Range']]\n",
    "clusters = KMeans(n_clusters=4)\n",
    "clusters.fit(X)\n",
    "\n",
    "# cluster centers and labels\n",
    "cluster_centers = clusters.cluster_centers_\n",
    "labels = clusters.labels_\n",
    "mydf['Cluster'] = labels\n",
    "\n",
    "# plotting\n",
    "plt.figure(figsize=(8, 6))\n",
    "plt.scatter(mydf[\"Base MSRP\"], mydf[\"Electric Range\"], c=mydf['Cluster'], cmap='rainbow', alpha=0.5)\n",
    "plt.xlabel(\"Base MSRP\")\n",
    "plt.ylabel(\"Electric Range\")\n",
    "plt.title(\"KMeans Clustering: Electric Range vs. Base MSRP\")\n",
    "plt.show()"
   ]
  },
  {
   "cell_type": "code",
   "execution_count": 329,
   "id": "52879818",
   "metadata": {
    "scrolled": true
   },
   "outputs": [
    {
     "data": {
      "image/png": "[encoded data removed]",
      "text/plain": [
       "<Figure size 800x600 with 1 Axes>"
      ]
     },
     "metadata": {},
     "output_type": "display_data"
    }
   ],
   "source": [
    "# define markers and colors\n",
    "markers = ['+', '^', '.', 'o']\n",
    "colors = ['red', 'green', 'blue', 'orange']\n",
    "\n",
    "# scatter plot\n",
    "plt.figure(figsize=(8, 6))\n",
    "\n",
    "for i, cluster_id in enumerate(mydf['Cluster'].unique()):\n",
    "    cluster_data = mydf[mydf['Cluster'] == cluster_id]\n",
    "    plt.scatter(cluster_data[\"Base MSRP\"], cluster_data[\"Electric Range\"], marker=markers[i], color=colors[i], label=f'Cluster {cluster_id}', alpha=0.01)\n",
    "\n",
    "plt.xlabel(\"Base MSRP\")\n",
    "plt.ylabel(\"Electric Range\")\n",
    "plt.title(\"Fig: Electric Vehicle Clusters Based on Base MSRP and Electric Range\")\n",
    "\n",
    "plt.legend()\n",
    "plt.show()\n"
   ]
  },
  {
   "cell_type": "code",
   "execution_count": 330,
   "id": "fade797c",
   "metadata": {
    "scrolled": true
   },
   "outputs": [
    {
     "data": {
      "text/plain": [
       "array([[ 0.7882423 ,  0.93928584],\n",
       "       [ 0.7882423 ,  0.93928584],\n",
       "       [ 0.7882423 ,  0.93928584],\n",
       "       [-1.45026846, -0.34529094],\n",
       "       [-1.45026846, -0.34529094]])"
      ]
     },
     "execution_count": 330,
     "metadata": {},
     "output_type": "execute_result"
    }
   ],
   "source": [
    "from sklearn.preprocessing import StandardScaler\n",
    "scaler = StandardScaler()\n",
    "# https://scikitlearn.org/stable/modules/generated/sklearn.preprocessing.StandardScaler.html\n",
    "scaled_mydf = scaler.fit_transform(mydf[[\"Base MSRP\", \"Electric Range\"]] )\n",
    "scaled_mydf[0:5]"
   ]
  },
  {
   "cell_type": "code",
   "execution_count": 331,
   "id": "a7a1fb40",
   "metadata": {},
   "outputs": [],
   "source": [
    "from sklearn.cluster import KMeans\n",
    "clusters_new = KMeans( 3, random_state=42 )\n",
    "clusters_new.fit( scaled_mydf )\n",
    "mydf[\"clusterid_new\"] = clusters_new.labels_"
   ]
  },
  {
   "cell_type": "code",
   "execution_count": 332,
   "id": "5c21160a",
   "metadata": {
    "scrolled": true
   },
   "outputs": [
    {
     "data": {
      "text/plain": [
       "array([[6.98228979e+04, 1.93861361e+02],\n",
       "       [3.41201765e+04, 6.89896158e+01],\n",
       "       [5.26486111e+04, 5.57173913e+01],\n",
       "       [1.00225000e+05, 1.27882979e+02]])"
      ]
     },
     "execution_count": 332,
     "metadata": {},
     "output_type": "execute_result"
    }
   ],
   "source": [
    "clusters.cluster_centers_"
   ]
  },
  {
   "cell_type": "code",
   "execution_count": 333,
   "id": "033ed7ab",
   "metadata": {
    "scrolled": true
   },
   "outputs": [
    {
     "name": "stdout",
     "output_type": "stream",
     "text": [
      "  Cluster      Base MSRP              Electric Range            \n",
      "                    mean          std           mean         std\n",
      "0       0   69822.897946  1758.112856     193.861361   49.651425\n",
      "1       1   34120.176532  2822.702563      68.989616   36.539073\n",
      "2       2   52648.611111  4955.887135      55.717391   92.025126\n",
      "3       3  100225.000000  7970.458730     127.882979  108.132322\n"
     ]
    }
   ],
   "source": [
    "# group by cluster and calculating mean and std for variables\n",
    "cluster_summary = mydf.groupby('Cluster')[['Base MSRP', 'Electric Range']].agg([\"mean\", \"std\"]).reset_index()\n",
    "print(cluster_summary)\n"
   ]
  },
  {
   "cell_type": "markdown",
   "id": "3d887c10",
   "metadata": {},
   "source": [
    "## Webscraping: To Conclude and Provide 7 GTM Success Steps\n",
    "* Retrieve information on What has lead to the growth of EV Cars?\n",
    "https://www.mckinsey.com/industries/automotive-and-assembly/our-insights/electric-vehicle-buyers-demand-new-experiences"
   ]
  },
  {
   "cell_type": "code",
   "execution_count": 334,
   "id": "46bc235a",
   "metadata": {
    "scrolled": true
   },
   "outputs": [
    {
     "name": "stdout",
     "output_type": "stream",
     "text": [
      "Leaving the niche: Seven steps for a successful go-to-market model for electric vehicles | McKinsey\n",
      "\n",
      "June 29, 2020\n",
      "\n",
      "1. Reinvent brand positioning\n",
      "2. Shape the charging ecosystem\n",
      "3. Generate income from the life cycle\n",
      "4. Massively reskill and refocus the sales force\n",
      "5. Perfect the omnichannel approach\n",
      "6. Upgrade after-sales customer-centricity and readiness\n",
      "7. Transform the business model to achieve profitability at scale\n",
      "\n",
      "Read More at: https://www.mckinsey.com/industries/automotive-and-assembly/our-insights/leaving-the-niche-seven-steps-for-a-successful-go-to-market-model-for-electric-vehicles\n"
     ]
    }
   ],
   "source": [
    "from bs4 import BeautifulSoup\n",
    "import requests\n",
    "\n",
    "url = 'https://www.mckinsey.com/industries/automotive-and-assembly/our-insights/leaving-the-niche-seven-steps-for-a-successful-go-to-market-model-for-electric-vehicles'\n",
    "\n",
    "page = requests.get(url)\n",
    "soup = BeautifulSoup(page.text,'html')\n",
    "\n",
    "alltext= soup.find('div', class_='mdc-o-content-body mck-u-dropcap')\n",
    "alltext\n",
    "heading= alltext.find_all('h2')\n",
    "subheadings = alltext.find_all('h3')\n",
    "\n",
    "text = 'To date, electric vehicles (EVs)'\n",
    "paragraphs = alltext.find_all('p')\n",
    "\n",
    "#Printing the title tag for the post\n",
    "match = soup.title.text\n",
    "print(match)\n",
    "print('')\n",
    "\n",
    "date = soup.time.text\n",
    "print(date)\n",
    "print('')\n",
    "lst = []\n",
    "for para in subheadings:\n",
    "    lst.append(para.text)\n",
    "\n",
    "for i in range(5,len(lst)):\n",
    "    print(lst[i])\n",
    "\n",
    "print('')\n",
    "print (\"Read More at:\", \"https://www.mckinsey.com/industries/automotive-and-assembly/our-insights/leaving-the-niche-seven-steps-for-a-successful-go-to-market-model-for-electric-vehicles\")"
   ]
  }
 ],
 "metadata": {
  "kernelspec": {
   "display_name": "Python 3 (ipykernel)",
   "language": "python",
   "name": "python3"
  },
  "language_info": {
   "codemirror_mode": {
    "name": "ipython",
    "version": 3
   },
   "file_extension": ".py",
   "mimetype": "text/x-python",
   "name": "python",
   "nbconvert_exporter": "python",
   "pygments_lexer": "ipython3",
   "version": "3.11.4"
  }
 },
 "nbformat": 4,
 "nbformat_minor": 5
}
